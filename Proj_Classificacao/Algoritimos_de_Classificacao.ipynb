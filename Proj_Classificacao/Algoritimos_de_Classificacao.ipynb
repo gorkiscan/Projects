{
 "cells": [
  {
   "cell_type": "markdown",
   "id": "8f3c325e",
   "metadata": {},
   "source": [
    "# Machine Learning"
   ]
  },
  {
   "cell_type": "code",
   "execution_count": 1,
   "id": "4c317d78",
   "metadata": {},
   "outputs": [],
   "source": [
    "# Pacotes\n",
    "#! pip install xgboost\n",
    "import joblib\n",
    "import pickle\n",
    "import numpy as np\n",
    "import pandas as pd\n",
    "import seaborn as sns\n",
    "from matplotlib import pyplot as plt\n",
    "import sklearn\n",
    "from sklearn.model_selection import train_test_split\n",
    "from sklearn.model_selection import GridSearchCV\n",
    "from sklearn.model_selection import cross_val_score\n",
    "from sklearn.model_selection import RandomizedSearchCV\n",
    "from sklearn.linear_model import LogisticRegression\n",
    "from sklearn.ensemble import RandomForestClassifier\n",
    "from sklearn.neighbors import KNeighborsClassifier\n",
    "from sklearn.tree import DecisionTreeClassifier\n",
    "from sklearn.svm import SVC\n",
    "from xgboost import XGBClassifier\n",
    "from sklearn.metrics import roc_curve, auc, roc_auc_score, confusion_matrix\n",
    "from sklearn.metrics import accuracy_score\n",
    "from sklearn.preprocessing import StandardScaler\n",
    "from scipy import stats\n",
    "import imblearn\n",
    "from imblearn.over_sampling import SMOTE\n",
    "%matplotlib inline \n",
    "import warnings\n",
    "warnings.filterwarnings(\"ignore\")"
   ]
  },
  {
   "cell_type": "markdown",
   "id": "9547decb",
   "metadata": {},
   "source": [
    "### Carregando Dados\n"
   ]
  },
  {
   "cell_type": "code",
   "execution_count": 2,
   "id": "e1e88b64",
   "metadata": {},
   "outputs": [],
   "source": [
    "df = pd.read_csv('dados/dataset.csv')"
   ]
  },
  {
   "cell_type": "code",
   "execution_count": 3,
   "id": "6b19a4ec",
   "metadata": {},
   "outputs": [
    {
     "data": {
      "text/html": [
       "<div>\n",
       "<style scoped>\n",
       "    .dataframe tbody tr th:only-of-type {\n",
       "        vertical-align: middle;\n",
       "    }\n",
       "\n",
       "    .dataframe tbody tr th {\n",
       "        vertical-align: top;\n",
       "    }\n",
       "\n",
       "    .dataframe thead th {\n",
       "        text-align: right;\n",
       "    }\n",
       "</style>\n",
       "<table border=\"1\" class=\"dataframe\">\n",
       "  <thead>\n",
       "    <tr style=\"text-align: right;\">\n",
       "      <th></th>\n",
       "      <th>Age</th>\n",
       "      <th>Gender</th>\n",
       "      <th>Total_Bilirubin</th>\n",
       "      <th>Direct_Bilirubin</th>\n",
       "      <th>Alkaline_Phosphotase</th>\n",
       "      <th>Alamine_Aminotransferase</th>\n",
       "      <th>Aspartate_Aminotransferase</th>\n",
       "      <th>Total_Protiens</th>\n",
       "      <th>Albumin</th>\n",
       "      <th>Albumin_and_Globulin_Ratio</th>\n",
       "      <th>Dataset</th>\n",
       "    </tr>\n",
       "  </thead>\n",
       "  <tbody>\n",
       "    <tr>\n",
       "      <th>392</th>\n",
       "      <td>41</td>\n",
       "      <td>Male</td>\n",
       "      <td>7.5</td>\n",
       "      <td>4.3</td>\n",
       "      <td>149</td>\n",
       "      <td>94</td>\n",
       "      <td>92</td>\n",
       "      <td>6.3</td>\n",
       "      <td>3.1</td>\n",
       "      <td>0.90</td>\n",
       "      <td>1</td>\n",
       "    </tr>\n",
       "    <tr>\n",
       "      <th>516</th>\n",
       "      <td>60</td>\n",
       "      <td>Male</td>\n",
       "      <td>0.9</td>\n",
       "      <td>0.3</td>\n",
       "      <td>168</td>\n",
       "      <td>16</td>\n",
       "      <td>24</td>\n",
       "      <td>6.7</td>\n",
       "      <td>3.0</td>\n",
       "      <td>0.80</td>\n",
       "      <td>1</td>\n",
       "    </tr>\n",
       "    <tr>\n",
       "      <th>187</th>\n",
       "      <td>60</td>\n",
       "      <td>Male</td>\n",
       "      <td>2.1</td>\n",
       "      <td>1.0</td>\n",
       "      <td>191</td>\n",
       "      <td>114</td>\n",
       "      <td>247</td>\n",
       "      <td>4.0</td>\n",
       "      <td>1.6</td>\n",
       "      <td>0.60</td>\n",
       "      <td>1</td>\n",
       "    </tr>\n",
       "    <tr>\n",
       "      <th>148</th>\n",
       "      <td>50</td>\n",
       "      <td>Male</td>\n",
       "      <td>0.9</td>\n",
       "      <td>0.2</td>\n",
       "      <td>202</td>\n",
       "      <td>20</td>\n",
       "      <td>26</td>\n",
       "      <td>7.2</td>\n",
       "      <td>4.5</td>\n",
       "      <td>1.66</td>\n",
       "      <td>1</td>\n",
       "    </tr>\n",
       "    <tr>\n",
       "      <th>399</th>\n",
       "      <td>27</td>\n",
       "      <td>Male</td>\n",
       "      <td>1.0</td>\n",
       "      <td>0.2</td>\n",
       "      <td>205</td>\n",
       "      <td>137</td>\n",
       "      <td>145</td>\n",
       "      <td>6.0</td>\n",
       "      <td>3.0</td>\n",
       "      <td>1.00</td>\n",
       "      <td>1</td>\n",
       "    </tr>\n",
       "  </tbody>\n",
       "</table>\n",
       "</div>"
      ],
      "text/plain": [
       "     Age Gender  Total_Bilirubin  Direct_Bilirubin  Alkaline_Phosphotase  \\\n",
       "392   41   Male              7.5               4.3                   149   \n",
       "516   60   Male              0.9               0.3                   168   \n",
       "187   60   Male              2.1               1.0                   191   \n",
       "148   50   Male              0.9               0.2                   202   \n",
       "399   27   Male              1.0               0.2                   205   \n",
       "\n",
       "     Alamine_Aminotransferase  Aspartate_Aminotransferase  Total_Protiens  \\\n",
       "392                        94                          92             6.3   \n",
       "516                        16                          24             6.7   \n",
       "187                       114                         247             4.0   \n",
       "148                        20                          26             7.2   \n",
       "399                       137                         145             6.0   \n",
       "\n",
       "     Albumin  Albumin_and_Globulin_Ratio  Dataset  \n",
       "392      3.1                        0.90        1  \n",
       "516      3.0                        0.80        1  \n",
       "187      1.6                        0.60        1  \n",
       "148      4.5                        1.66        1  \n",
       "399      3.0                        1.00        1  "
      ]
     },
     "execution_count": 3,
     "metadata": {},
     "output_type": "execute_result"
    }
   ],
   "source": [
    "df.sample(5)"
   ]
  },
  {
   "cell_type": "code",
   "execution_count": 4,
   "id": "1dfc624e",
   "metadata": {
    "scrolled": false
   },
   "outputs": [
    {
     "data": {
      "text/html": [
       "<div>\n",
       "<style scoped>\n",
       "    .dataframe tbody tr th:only-of-type {\n",
       "        vertical-align: middle;\n",
       "    }\n",
       "\n",
       "    .dataframe tbody tr th {\n",
       "        vertical-align: top;\n",
       "    }\n",
       "\n",
       "    .dataframe thead th {\n",
       "        text-align: right;\n",
       "    }\n",
       "</style>\n",
       "<table border=\"1\" class=\"dataframe\">\n",
       "  <thead>\n",
       "    <tr style=\"text-align: right;\">\n",
       "      <th></th>\n",
       "      <th>Age</th>\n",
       "      <th>Total_Bilirubin</th>\n",
       "      <th>Direct_Bilirubin</th>\n",
       "      <th>Alkaline_Phosphotase</th>\n",
       "      <th>Alamine_Aminotransferase</th>\n",
       "      <th>Aspartate_Aminotransferase</th>\n",
       "      <th>Total_Protiens</th>\n",
       "      <th>Albumin</th>\n",
       "      <th>Albumin_and_Globulin_Ratio</th>\n",
       "      <th>Dataset</th>\n",
       "    </tr>\n",
       "  </thead>\n",
       "  <tbody>\n",
       "    <tr>\n",
       "      <th>count</th>\n",
       "      <td>583.000000</td>\n",
       "      <td>583.000000</td>\n",
       "      <td>583.000000</td>\n",
       "      <td>583.000000</td>\n",
       "      <td>583.000000</td>\n",
       "      <td>583.000000</td>\n",
       "      <td>583.000000</td>\n",
       "      <td>583.000000</td>\n",
       "      <td>579.000000</td>\n",
       "      <td>583.000000</td>\n",
       "    </tr>\n",
       "    <tr>\n",
       "      <th>mean</th>\n",
       "      <td>44.746141</td>\n",
       "      <td>3.298799</td>\n",
       "      <td>1.486106</td>\n",
       "      <td>290.576329</td>\n",
       "      <td>80.713551</td>\n",
       "      <td>109.910806</td>\n",
       "      <td>6.483190</td>\n",
       "      <td>3.141852</td>\n",
       "      <td>0.947064</td>\n",
       "      <td>1.286449</td>\n",
       "    </tr>\n",
       "    <tr>\n",
       "      <th>std</th>\n",
       "      <td>16.189833</td>\n",
       "      <td>6.209522</td>\n",
       "      <td>2.808498</td>\n",
       "      <td>242.937989</td>\n",
       "      <td>182.620356</td>\n",
       "      <td>288.918529</td>\n",
       "      <td>1.085451</td>\n",
       "      <td>0.795519</td>\n",
       "      <td>0.319592</td>\n",
       "      <td>0.452490</td>\n",
       "    </tr>\n",
       "    <tr>\n",
       "      <th>min</th>\n",
       "      <td>4.000000</td>\n",
       "      <td>0.400000</td>\n",
       "      <td>0.100000</td>\n",
       "      <td>63.000000</td>\n",
       "      <td>10.000000</td>\n",
       "      <td>10.000000</td>\n",
       "      <td>2.700000</td>\n",
       "      <td>0.900000</td>\n",
       "      <td>0.300000</td>\n",
       "      <td>1.000000</td>\n",
       "    </tr>\n",
       "    <tr>\n",
       "      <th>25%</th>\n",
       "      <td>33.000000</td>\n",
       "      <td>0.800000</td>\n",
       "      <td>0.200000</td>\n",
       "      <td>175.500000</td>\n",
       "      <td>23.000000</td>\n",
       "      <td>25.000000</td>\n",
       "      <td>5.800000</td>\n",
       "      <td>2.600000</td>\n",
       "      <td>0.700000</td>\n",
       "      <td>1.000000</td>\n",
       "    </tr>\n",
       "    <tr>\n",
       "      <th>50%</th>\n",
       "      <td>45.000000</td>\n",
       "      <td>1.000000</td>\n",
       "      <td>0.300000</td>\n",
       "      <td>208.000000</td>\n",
       "      <td>35.000000</td>\n",
       "      <td>42.000000</td>\n",
       "      <td>6.600000</td>\n",
       "      <td>3.100000</td>\n",
       "      <td>0.930000</td>\n",
       "      <td>1.000000</td>\n",
       "    </tr>\n",
       "    <tr>\n",
       "      <th>75%</th>\n",
       "      <td>58.000000</td>\n",
       "      <td>2.600000</td>\n",
       "      <td>1.300000</td>\n",
       "      <td>298.000000</td>\n",
       "      <td>60.500000</td>\n",
       "      <td>87.000000</td>\n",
       "      <td>7.200000</td>\n",
       "      <td>3.800000</td>\n",
       "      <td>1.100000</td>\n",
       "      <td>2.000000</td>\n",
       "    </tr>\n",
       "    <tr>\n",
       "      <th>max</th>\n",
       "      <td>90.000000</td>\n",
       "      <td>75.000000</td>\n",
       "      <td>19.700000</td>\n",
       "      <td>2110.000000</td>\n",
       "      <td>2000.000000</td>\n",
       "      <td>4929.000000</td>\n",
       "      <td>9.600000</td>\n",
       "      <td>5.500000</td>\n",
       "      <td>2.800000</td>\n",
       "      <td>2.000000</td>\n",
       "    </tr>\n",
       "  </tbody>\n",
       "</table>\n",
       "</div>"
      ],
      "text/plain": [
       "              Age  Total_Bilirubin  Direct_Bilirubin  Alkaline_Phosphotase  \\\n",
       "count  583.000000       583.000000        583.000000            583.000000   \n",
       "mean    44.746141         3.298799          1.486106            290.576329   \n",
       "std     16.189833         6.209522          2.808498            242.937989   \n",
       "min      4.000000         0.400000          0.100000             63.000000   \n",
       "25%     33.000000         0.800000          0.200000            175.500000   \n",
       "50%     45.000000         1.000000          0.300000            208.000000   \n",
       "75%     58.000000         2.600000          1.300000            298.000000   \n",
       "max     90.000000        75.000000         19.700000           2110.000000   \n",
       "\n",
       "       Alamine_Aminotransferase  Aspartate_Aminotransferase  Total_Protiens  \\\n",
       "count                583.000000                  583.000000      583.000000   \n",
       "mean                  80.713551                  109.910806        6.483190   \n",
       "std                  182.620356                  288.918529        1.085451   \n",
       "min                   10.000000                   10.000000        2.700000   \n",
       "25%                   23.000000                   25.000000        5.800000   \n",
       "50%                   35.000000                   42.000000        6.600000   \n",
       "75%                   60.500000                   87.000000        7.200000   \n",
       "max                 2000.000000                 4929.000000        9.600000   \n",
       "\n",
       "          Albumin  Albumin_and_Globulin_Ratio     Dataset  \n",
       "count  583.000000                  579.000000  583.000000  \n",
       "mean     3.141852                    0.947064    1.286449  \n",
       "std      0.795519                    0.319592    0.452490  \n",
       "min      0.900000                    0.300000    1.000000  \n",
       "25%      2.600000                    0.700000    1.000000  \n",
       "50%      3.100000                    0.930000    1.000000  \n",
       "75%      3.800000                    1.100000    2.000000  \n",
       "max      5.500000                    2.800000    2.000000  "
      ]
     },
     "execution_count": 4,
     "metadata": {},
     "output_type": "execute_result"
    }
   ],
   "source": [
    "df.describe()"
   ]
  },
  {
   "cell_type": "code",
   "execution_count": 5,
   "id": "c3da3f86",
   "metadata": {},
   "outputs": [],
   "source": [
    "def ecod_func_D (x):\n",
    "    if x == 1:\n",
    "        return 0\n",
    "    return 1\n",
    "\n",
    "df['Dataset'] = df['Dataset'].map(ecod_func_D)\n"
   ]
  },
  {
   "cell_type": "code",
   "execution_count": 6,
   "id": "010f92a5",
   "metadata": {
    "scrolled": true
   },
   "outputs": [
    {
     "data": {
      "text/plain": [
       "0    416\n",
       "1    167\n",
       "Name: Dataset, dtype: int64"
      ]
     },
     "execution_count": 6,
     "metadata": {},
     "output_type": "execute_result"
    }
   ],
   "source": [
    "df['Dataset'].value_counts()"
   ]
  },
  {
   "cell_type": "code",
   "execution_count": 7,
   "id": "552ad3bd",
   "metadata": {
    "scrolled": true
   },
   "outputs": [
    {
     "data": {
      "text/plain": [
       "Male      441\n",
       "Female    142\n",
       "Name: Gender, dtype: int64"
      ]
     },
     "execution_count": 7,
     "metadata": {},
     "output_type": "execute_result"
    }
   ],
   "source": [
    "df['Gender'].value_counts()"
   ]
  },
  {
   "cell_type": "code",
   "execution_count": 8,
   "id": "3042d18a",
   "metadata": {},
   "outputs": [
    {
     "data": {
      "text/html": [
       "<div>\n",
       "<style scoped>\n",
       "    .dataframe tbody tr th:only-of-type {\n",
       "        vertical-align: middle;\n",
       "    }\n",
       "\n",
       "    .dataframe tbody tr th {\n",
       "        vertical-align: top;\n",
       "    }\n",
       "\n",
       "    .dataframe thead th {\n",
       "        text-align: right;\n",
       "    }\n",
       "</style>\n",
       "<table border=\"1\" class=\"dataframe\">\n",
       "  <thead>\n",
       "    <tr style=\"text-align: right;\">\n",
       "      <th></th>\n",
       "      <th>Age</th>\n",
       "      <th>Total_Bilirubin</th>\n",
       "      <th>Direct_Bilirubin</th>\n",
       "      <th>Alkaline_Phosphotase</th>\n",
       "      <th>Alamine_Aminotransferase</th>\n",
       "      <th>Aspartate_Aminotransferase</th>\n",
       "      <th>Total_Protiens</th>\n",
       "      <th>Albumin</th>\n",
       "      <th>Albumin_and_Globulin_Ratio</th>\n",
       "      <th>Dataset</th>\n",
       "      <th>Gender_Female</th>\n",
       "      <th>Gender_Male</th>\n",
       "    </tr>\n",
       "  </thead>\n",
       "  <tbody>\n",
       "    <tr>\n",
       "      <th>56</th>\n",
       "      <td>33</td>\n",
       "      <td>0.8</td>\n",
       "      <td>0.2</td>\n",
       "      <td>198</td>\n",
       "      <td>26</td>\n",
       "      <td>23</td>\n",
       "      <td>8.0</td>\n",
       "      <td>4.0</td>\n",
       "      <td>1.00</td>\n",
       "      <td>1</td>\n",
       "      <td>0</td>\n",
       "      <td>1</td>\n",
       "    </tr>\n",
       "    <tr>\n",
       "      <th>477</th>\n",
       "      <td>55</td>\n",
       "      <td>0.6</td>\n",
       "      <td>0.2</td>\n",
       "      <td>220</td>\n",
       "      <td>24</td>\n",
       "      <td>32</td>\n",
       "      <td>5.1</td>\n",
       "      <td>2.4</td>\n",
       "      <td>0.88</td>\n",
       "      <td>0</td>\n",
       "      <td>0</td>\n",
       "      <td>1</td>\n",
       "    </tr>\n",
       "    <tr>\n",
       "      <th>16</th>\n",
       "      <td>38</td>\n",
       "      <td>1.8</td>\n",
       "      <td>0.8</td>\n",
       "      <td>342</td>\n",
       "      <td>168</td>\n",
       "      <td>441</td>\n",
       "      <td>7.6</td>\n",
       "      <td>4.4</td>\n",
       "      <td>1.30</td>\n",
       "      <td>0</td>\n",
       "      <td>0</td>\n",
       "      <td>1</td>\n",
       "    </tr>\n",
       "    <tr>\n",
       "      <th>478</th>\n",
       "      <td>33</td>\n",
       "      <td>7.1</td>\n",
       "      <td>3.7</td>\n",
       "      <td>196</td>\n",
       "      <td>622</td>\n",
       "      <td>497</td>\n",
       "      <td>6.9</td>\n",
       "      <td>3.6</td>\n",
       "      <td>1.09</td>\n",
       "      <td>0</td>\n",
       "      <td>0</td>\n",
       "      <td>1</td>\n",
       "    </tr>\n",
       "    <tr>\n",
       "      <th>11</th>\n",
       "      <td>72</td>\n",
       "      <td>2.7</td>\n",
       "      <td>1.3</td>\n",
       "      <td>260</td>\n",
       "      <td>31</td>\n",
       "      <td>56</td>\n",
       "      <td>7.4</td>\n",
       "      <td>3.0</td>\n",
       "      <td>0.60</td>\n",
       "      <td>0</td>\n",
       "      <td>0</td>\n",
       "      <td>1</td>\n",
       "    </tr>\n",
       "  </tbody>\n",
       "</table>\n",
       "</div>"
      ],
      "text/plain": [
       "     Age  Total_Bilirubin  Direct_Bilirubin  Alkaline_Phosphotase  \\\n",
       "56    33              0.8               0.2                   198   \n",
       "477   55              0.6               0.2                   220   \n",
       "16    38              1.8               0.8                   342   \n",
       "478   33              7.1               3.7                   196   \n",
       "11    72              2.7               1.3                   260   \n",
       "\n",
       "     Alamine_Aminotransferase  Aspartate_Aminotransferase  Total_Protiens  \\\n",
       "56                         26                          23             8.0   \n",
       "477                        24                          32             5.1   \n",
       "16                        168                         441             7.6   \n",
       "478                       622                         497             6.9   \n",
       "11                         31                          56             7.4   \n",
       "\n",
       "     Albumin  Albumin_and_Globulin_Ratio  Dataset  Gender_Female  Gender_Male  \n",
       "56       4.0                        1.00        1              0            1  \n",
       "477      2.4                        0.88        0              0            1  \n",
       "16       4.4                        1.30        0              0            1  \n",
       "478      3.6                        1.09        0              0            1  \n",
       "11       3.0                        0.60        0              0            1  "
      ]
     },
     "execution_count": 8,
     "metadata": {},
     "output_type": "execute_result"
    }
   ],
   "source": [
    "onehots = pd.get_dummies(df['Gender'], prefix = 'Gender')\n",
    "df = df.join(onehots, )\n",
    "df.drop('Gender', 1, inplace= True)\n",
    "df.sample(5)"
   ]
  },
  {
   "cell_type": "markdown",
   "id": "2210e9a1",
   "metadata": {},
   "source": [
    "### Análise Exploratoria "
   ]
  },
  {
   "cell_type": "code",
   "execution_count": 9,
   "id": "9b3af33e",
   "metadata": {},
   "outputs": [
    {
     "data": {
      "text/plain": [
       "Age                             int64\n",
       "Total_Bilirubin               float64\n",
       "Direct_Bilirubin              float64\n",
       "Alkaline_Phosphotase            int64\n",
       "Alamine_Aminotransferase        int64\n",
       "Aspartate_Aminotransferase      int64\n",
       "Total_Protiens                float64\n",
       "Albumin                       float64\n",
       "Albumin_and_Globulin_Ratio    float64\n",
       "Dataset                         int64\n",
       "Gender_Female                   uint8\n",
       "Gender_Male                     uint8\n",
       "dtype: object"
      ]
     },
     "execution_count": 9,
     "metadata": {},
     "output_type": "execute_result"
    }
   ],
   "source": [
    "df.dtypes"
   ]
  },
  {
   "cell_type": "code",
   "execution_count": 10,
   "id": "9543bd17",
   "metadata": {},
   "outputs": [
    {
     "data": {
      "image/png": "[encoded data removed]",
      "text/plain": [
       "<Figure size 1080x1080 with 12 Axes>"
      ]
     },
     "metadata": {
      "needs_background": "light"
     },
     "output_type": "display_data"
    }
   ],
   "source": [
    "df.hist(figsize = (15, 15), bins = 15)\n",
    "plt.show()"
   ]
  },
  {
   "cell_type": "code",
   "execution_count": 11,
   "id": "bab78fad",
   "metadata": {},
   "outputs": [],
   "source": [
    "\n",
    "lista_col = ['Age', 'Total_Bilirubin', 'Direct_Bilirubin',\n",
    "       'Alkaline_Phosphotase', 'Alamine_Aminotransferase',\n",
    "       'Aspartate_Aminotransferase', 'Total_Protiens', 'Albumin',\n",
    "       'Albumin_and_Globulin_Ratio', 'Dataset']"
   ]
  },
  {
   "cell_type": "code",
   "execution_count": 12,
   "id": "3124914a",
   "metadata": {
    "scrolled": true
   },
   "outputs": [
    {
     "data": {
      "image/png": "[encoded data removed]",
      "text/plain": [
       "<Figure size 864x864 with 10 Axes>"
      ]
     },
     "metadata": {
      "needs_background": "light"
     },
     "output_type": "display_data"
    }
   ],
   "source": [
    "plt.figure(figsize= (12,12))\n",
    "for i in range(0, len(lista_col)):\n",
    "    plt.subplot(2, int(len(lista_col)/2), i + 1)\n",
    "    sns.violinplot(y = df[lista_col[i]], \n",
    "                   color = 'lightblue')\n",
    "    plt.tight_layout()"
   ]
  },
  {
   "cell_type": "code",
   "execution_count": 13,
   "id": "bb775f9d",
   "metadata": {
    "scrolled": true
   },
   "outputs": [
    {
     "data": {
      "image/png": "[encoded data removed]",
      "text/plain": [
       "<Figure size 576x576 with 2 Axes>"
      ]
     },
     "metadata": {
      "needs_background": "light"
     },
     "output_type": "display_data"
    }
   ],
   "source": [
    "#Analise de correlação \n",
    "corr_df = df.corr()\n",
    "plt.figure(figsize= (8,8))\n",
    "\n",
    "sns.heatmap(corr_df,\n",
    "           cmap = 'YlOrRd',\n",
    "           annot = True,\n",
    "           fmt = '.2f');"
   ]
  },
  {
   "cell_type": "code",
   "execution_count": 14,
   "id": "60ea76a7",
   "metadata": {},
   "outputs": [
    {
     "data": {
      "image/png": "[encoded data removed]",
      "text/plain": [
       "<Figure size 432x288 with 1 Axes>"
      ]
     },
     "metadata": {
      "needs_background": "light"
     },
     "output_type": "display_data"
    },
    {
     "data": {
      "image/png": "[encoded data removed]",
      "text/plain": [
       "<Figure size 402.75x360 with 1 Axes>"
      ]
     },
     "metadata": {},
     "output_type": "display_data"
    },
    {
     "data": {
      "image/png": "[encoded data removed]",
      "text/plain": [
       "<Figure size 402.75x360 with 1 Axes>"
      ]
     },
     "metadata": {},
     "output_type": "display_data"
    },
    {
     "data": {
      "image/png": "[encoded data removed]",
      "text/plain": [
       "<Figure size 402.75x360 with 1 Axes>"
      ]
     },
     "metadata": {},
     "output_type": "display_data"
    }
   ],
   "source": [
    "#Facegrid para detecção de multicolinearidade\n",
    "plt.subplot(1, 2, 2)\n",
    "sns.set_style('darkgrid')\n",
    "sns.FacetGrid(df, hue = 'Dataset', size = 5).map(plt.scatter, 'Total_Bilirubin', 'Direct_Bilirubin').add_legend();\n",
    "sns.FacetGrid(df, hue = 'Dataset', size = 5).map(plt.scatter, 'Total_Protiens', 'Albumin').add_legend();\n",
    "sns.FacetGrid(df, hue = 'Dataset', size = 5).map(plt.scatter, 'Alamine_Aminotransferase', 'Aspartate_Aminotransferase').add_legend();"
   ]
  },
  {
   "cell_type": "markdown",
   "id": "9b2ea91a",
   "metadata": {},
   "source": [
    "### Limpando Valores Ausentes, Registros Duplicados e Outliers\n"
   ]
  },
  {
   "cell_type": "code",
   "execution_count": 15,
   "id": "ad2a3eb0",
   "metadata": {
    "scrolled": false
   },
   "outputs": [
    {
     "data": {
      "text/html": [
       "<div>\n",
       "<style scoped>\n",
       "    .dataframe tbody tr th:only-of-type {\n",
       "        vertical-align: middle;\n",
       "    }\n",
       "\n",
       "    .dataframe tbody tr th {\n",
       "        vertical-align: top;\n",
       "    }\n",
       "\n",
       "    .dataframe thead th {\n",
       "        text-align: right;\n",
       "    }\n",
       "</style>\n",
       "<table border=\"1\" class=\"dataframe\">\n",
       "  <thead>\n",
       "    <tr style=\"text-align: right;\">\n",
       "      <th></th>\n",
       "      <th>Age</th>\n",
       "      <th>Total_Bilirubin</th>\n",
       "      <th>Direct_Bilirubin</th>\n",
       "      <th>Alkaline_Phosphotase</th>\n",
       "      <th>Alamine_Aminotransferase</th>\n",
       "      <th>Aspartate_Aminotransferase</th>\n",
       "      <th>Total_Protiens</th>\n",
       "      <th>Albumin</th>\n",
       "      <th>Albumin_and_Globulin_Ratio</th>\n",
       "      <th>Dataset</th>\n",
       "      <th>Gender_Female</th>\n",
       "      <th>Gender_Male</th>\n",
       "    </tr>\n",
       "  </thead>\n",
       "  <tbody>\n",
       "    <tr>\n",
       "      <th>209</th>\n",
       "      <td>45</td>\n",
       "      <td>0.9</td>\n",
       "      <td>0.3</td>\n",
       "      <td>189</td>\n",
       "      <td>23</td>\n",
       "      <td>33</td>\n",
       "      <td>6.6</td>\n",
       "      <td>3.9</td>\n",
       "      <td>NaN</td>\n",
       "      <td>0</td>\n",
       "      <td>1</td>\n",
       "      <td>0</td>\n",
       "    </tr>\n",
       "    <tr>\n",
       "      <th>241</th>\n",
       "      <td>51</td>\n",
       "      <td>0.8</td>\n",
       "      <td>0.2</td>\n",
       "      <td>230</td>\n",
       "      <td>24</td>\n",
       "      <td>46</td>\n",
       "      <td>6.5</td>\n",
       "      <td>3.1</td>\n",
       "      <td>NaN</td>\n",
       "      <td>0</td>\n",
       "      <td>0</td>\n",
       "      <td>1</td>\n",
       "    </tr>\n",
       "    <tr>\n",
       "      <th>253</th>\n",
       "      <td>35</td>\n",
       "      <td>0.6</td>\n",
       "      <td>0.2</td>\n",
       "      <td>180</td>\n",
       "      <td>12</td>\n",
       "      <td>15</td>\n",
       "      <td>5.2</td>\n",
       "      <td>2.7</td>\n",
       "      <td>NaN</td>\n",
       "      <td>1</td>\n",
       "      <td>1</td>\n",
       "      <td>0</td>\n",
       "    </tr>\n",
       "    <tr>\n",
       "      <th>312</th>\n",
       "      <td>27</td>\n",
       "      <td>1.3</td>\n",
       "      <td>0.6</td>\n",
       "      <td>106</td>\n",
       "      <td>25</td>\n",
       "      <td>54</td>\n",
       "      <td>8.5</td>\n",
       "      <td>4.8</td>\n",
       "      <td>NaN</td>\n",
       "      <td>1</td>\n",
       "      <td>0</td>\n",
       "      <td>1</td>\n",
       "    </tr>\n",
       "  </tbody>\n",
       "</table>\n",
       "</div>"
      ],
      "text/plain": [
       "     Age  Total_Bilirubin  Direct_Bilirubin  Alkaline_Phosphotase  \\\n",
       "209   45              0.9               0.3                   189   \n",
       "241   51              0.8               0.2                   230   \n",
       "253   35              0.6               0.2                   180   \n",
       "312   27              1.3               0.6                   106   \n",
       "\n",
       "     Alamine_Aminotransferase  Aspartate_Aminotransferase  Total_Protiens  \\\n",
       "209                        23                          33             6.6   \n",
       "241                        24                          46             6.5   \n",
       "253                        12                          15             5.2   \n",
       "312                        25                          54             8.5   \n",
       "\n",
       "     Albumin  Albumin_and_Globulin_Ratio  Dataset  Gender_Female  Gender_Male  \n",
       "209      3.9                         NaN        0              1            0  \n",
       "241      3.1                         NaN        0              0            1  \n",
       "253      2.7                         NaN        1              1            0  \n",
       "312      4.8                         NaN        1              0            1  "
      ]
     },
     "execution_count": 15,
     "metadata": {},
     "output_type": "execute_result"
    }
   ],
   "source": [
    "df[df.isnull().values]"
   ]
  },
  {
   "cell_type": "code",
   "execution_count": 16,
   "id": "a040c901",
   "metadata": {},
   "outputs": [
    {
     "data": {
      "text/html": [
       "<div>\n",
       "<style scoped>\n",
       "    .dataframe tbody tr th:only-of-type {\n",
       "        vertical-align: middle;\n",
       "    }\n",
       "\n",
       "    .dataframe tbody tr th {\n",
       "        vertical-align: top;\n",
       "    }\n",
       "\n",
       "    .dataframe thead th {\n",
       "        text-align: right;\n",
       "    }\n",
       "</style>\n",
       "<table border=\"1\" class=\"dataframe\">\n",
       "  <thead>\n",
       "    <tr style=\"text-align: right;\">\n",
       "      <th></th>\n",
       "      <th>Age</th>\n",
       "      <th>Total_Bilirubin</th>\n",
       "      <th>Direct_Bilirubin</th>\n",
       "      <th>Alkaline_Phosphotase</th>\n",
       "      <th>Alamine_Aminotransferase</th>\n",
       "      <th>Aspartate_Aminotransferase</th>\n",
       "      <th>Total_Protiens</th>\n",
       "      <th>Albumin</th>\n",
       "      <th>Albumin_and_Globulin_Ratio</th>\n",
       "      <th>Dataset</th>\n",
       "      <th>Gender_Female</th>\n",
       "      <th>Gender_Male</th>\n",
       "    </tr>\n",
       "  </thead>\n",
       "  <tbody>\n",
       "  </tbody>\n",
       "</table>\n",
       "</div>"
      ],
      "text/plain": [
       "Empty DataFrame\n",
       "Columns: [Age, Total_Bilirubin, Direct_Bilirubin, Alkaline_Phosphotase, Alamine_Aminotransferase, Aspartate_Aminotransferase, Total_Protiens, Albumin, Albumin_and_Globulin_Ratio, Dataset, Gender_Female, Gender_Male]\n",
       "Index: []"
      ]
     },
     "execution_count": 16,
     "metadata": {},
     "output_type": "execute_result"
    }
   ],
   "source": [
    "# Tratamento de Valores NA\n",
    "df = df.dropna(how = 'any')\n",
    "df[df.isnull().values]"
   ]
  },
  {
   "cell_type": "code",
   "execution_count": 17,
   "id": "087ab5e3",
   "metadata": {},
   "outputs": [
    {
     "data": {
      "text/plain": [
       "(566, 12)"
      ]
     },
     "execution_count": 17,
     "metadata": {},
     "output_type": "execute_result"
    }
   ],
   "source": [
    "# Tratamento de Valores Duplicados\n",
    "df = df.drop_duplicates()\n",
    "df.shape"
   ]
  },
  {
   "cell_type": "code",
   "execution_count": 18,
   "id": "71dd1986",
   "metadata": {},
   "outputs": [],
   "source": [
    "registros = np.array([True] * len(df))\n",
    "lista_col_nums = ['Total_Bilirubin', 'Direct_Bilirubin',\n",
    "       'Alkaline_Phosphotase', 'Alamine_Aminotransferase',\n",
    "       'Aspartate_Aminotransferase', 'Total_Protiens', 'Albumin',\n",
    "       'Albumin_and_Globulin_Ratio']\n",
    "# Loop por cada variável numérica\n",
    "for col in lista_col_nums:\n",
    "    \n",
    "    # Calcula o z-score absoluto\n",
    "    zscore = abs(stats.zscore(df[col])) \n",
    "    \n",
    "    # Mantém valores com menos de t z-score absoluto\n",
    "    registros = (zscore < 7) & registros"
   ]
  },
  {
   "cell_type": "code",
   "execution_count": 19,
   "id": "44d53e46",
   "metadata": {},
   "outputs": [
    {
     "data": {
      "text/plain": [
       "560"
      ]
     },
     "execution_count": 19,
     "metadata": {},
     "output_type": "execute_result"
    }
   ],
   "source": [
    "np.count_nonzero(registros == True)"
   ]
  },
  {
   "cell_type": "code",
   "execution_count": 20,
   "id": "26df2664",
   "metadata": {
    "scrolled": true
   },
   "outputs": [
    {
     "data": {
      "text/plain": [
       "6"
      ]
     },
     "execution_count": 20,
     "metadata": {},
     "output_type": "execute_result"
    }
   ],
   "source": [
    "np.count_nonzero(registros == False)"
   ]
  },
  {
   "cell_type": "code",
   "execution_count": 21,
   "id": "46842a14",
   "metadata": {
    "scrolled": true
   },
   "outputs": [
    {
     "data": {
      "text/html": [
       "<div>\n",
       "<style scoped>\n",
       "    .dataframe tbody tr th:only-of-type {\n",
       "        vertical-align: middle;\n",
       "    }\n",
       "\n",
       "    .dataframe tbody tr th {\n",
       "        vertical-align: top;\n",
       "    }\n",
       "\n",
       "    .dataframe thead th {\n",
       "        text-align: right;\n",
       "    }\n",
       "</style>\n",
       "<table border=\"1\" class=\"dataframe\">\n",
       "  <thead>\n",
       "    <tr style=\"text-align: right;\">\n",
       "      <th></th>\n",
       "      <th>Age</th>\n",
       "      <th>Total_Bilirubin</th>\n",
       "      <th>Direct_Bilirubin</th>\n",
       "      <th>Alkaline_Phosphotase</th>\n",
       "      <th>Alamine_Aminotransferase</th>\n",
       "      <th>Aspartate_Aminotransferase</th>\n",
       "      <th>Total_Protiens</th>\n",
       "      <th>Albumin</th>\n",
       "      <th>Albumin_and_Globulin_Ratio</th>\n",
       "      <th>Dataset</th>\n",
       "      <th>Gender_Female</th>\n",
       "      <th>Gender_Male</th>\n",
       "    </tr>\n",
       "  </thead>\n",
       "  <tbody>\n",
       "    <tr>\n",
       "      <th>count</th>\n",
       "      <td>6.000000</td>\n",
       "      <td>6.000000</td>\n",
       "      <td>6.000000</td>\n",
       "      <td>6.000000</td>\n",
       "      <td>6.000000</td>\n",
       "      <td>6.000000</td>\n",
       "      <td>6.000000</td>\n",
       "      <td>6.000000</td>\n",
       "      <td>6.000000</td>\n",
       "      <td>6.0</td>\n",
       "      <td>6.0</td>\n",
       "      <td>6.0</td>\n",
       "    </tr>\n",
       "    <tr>\n",
       "      <th>mean</th>\n",
       "      <td>43.333333</td>\n",
       "      <td>18.050000</td>\n",
       "      <td>3.350000</td>\n",
       "      <td>702.666667</td>\n",
       "      <td>1108.000000</td>\n",
       "      <td>1640.000000</td>\n",
       "      <td>6.200000</td>\n",
       "      <td>3.000000</td>\n",
       "      <td>0.966667</td>\n",
       "      <td>0.0</td>\n",
       "      <td>0.0</td>\n",
       "      <td>1.0</td>\n",
       "    </tr>\n",
       "    <tr>\n",
       "      <th>std</th>\n",
       "      <td>14.023789</td>\n",
       "      <td>28.294222</td>\n",
       "      <td>2.301087</td>\n",
       "      <td>772.025561</td>\n",
       "      <td>857.871785</td>\n",
       "      <td>1923.160628</td>\n",
       "      <td>0.846168</td>\n",
       "      <td>0.589915</td>\n",
       "      <td>0.355903</td>\n",
       "      <td>0.0</td>\n",
       "      <td>0.0</td>\n",
       "      <td>0.0</td>\n",
       "    </tr>\n",
       "    <tr>\n",
       "      <th>min</th>\n",
       "      <td>32.000000</td>\n",
       "      <td>1.100000</td>\n",
       "      <td>0.300000</td>\n",
       "      <td>194.000000</td>\n",
       "      <td>40.000000</td>\n",
       "      <td>66.000000</td>\n",
       "      <td>4.900000</td>\n",
       "      <td>2.400000</td>\n",
       "      <td>0.500000</td>\n",
       "      <td>0.0</td>\n",
       "      <td>0.0</td>\n",
       "      <td>1.0</td>\n",
       "    </tr>\n",
       "    <tr>\n",
       "      <th>25%</th>\n",
       "      <td>33.250000</td>\n",
       "      <td>3.050000</td>\n",
       "      <td>1.800000</td>\n",
       "      <td>232.500000</td>\n",
       "      <td>348.500000</td>\n",
       "      <td>279.250000</td>\n",
       "      <td>5.825000</td>\n",
       "      <td>2.575000</td>\n",
       "      <td>0.675000</td>\n",
       "      <td>0.0</td>\n",
       "      <td>0.0</td>\n",
       "      <td>1.0</td>\n",
       "    </tr>\n",
       "    <tr>\n",
       "      <th>50%</th>\n",
       "      <td>37.000000</td>\n",
       "      <td>8.750000</td>\n",
       "      <td>3.300000</td>\n",
       "      <td>286.000000</td>\n",
       "      <td>1440.000000</td>\n",
       "      <td>905.000000</td>\n",
       "      <td>6.200000</td>\n",
       "      <td>2.900000</td>\n",
       "      <td>1.050000</td>\n",
       "      <td>0.0</td>\n",
       "      <td>0.0</td>\n",
       "      <td>1.0</td>\n",
       "    </tr>\n",
       "    <tr>\n",
       "      <th>75%</th>\n",
       "      <td>51.250000</td>\n",
       "      <td>12.350000</td>\n",
       "      <td>5.100000</td>\n",
       "      <td>915.500000</td>\n",
       "      <td>1667.500000</td>\n",
       "      <td>2449.500000</td>\n",
       "      <td>6.800000</td>\n",
       "      <td>3.225000</td>\n",
       "      <td>1.275000</td>\n",
       "      <td>0.0</td>\n",
       "      <td>0.0</td>\n",
       "      <td>1.0</td>\n",
       "    </tr>\n",
       "    <tr>\n",
       "      <th>max</th>\n",
       "      <td>66.000000</td>\n",
       "      <td>75.000000</td>\n",
       "      <td>6.200000</td>\n",
       "      <td>2110.000000</td>\n",
       "      <td>2000.000000</td>\n",
       "      <td>4929.000000</td>\n",
       "      <td>7.200000</td>\n",
       "      <td>4.000000</td>\n",
       "      <td>1.300000</td>\n",
       "      <td>0.0</td>\n",
       "      <td>0.0</td>\n",
       "      <td>1.0</td>\n",
       "    </tr>\n",
       "  </tbody>\n",
       "</table>\n",
       "</div>"
      ],
      "text/plain": [
       "             Age  Total_Bilirubin  Direct_Bilirubin  Alkaline_Phosphotase  \\\n",
       "count   6.000000         6.000000          6.000000              6.000000   \n",
       "mean   43.333333        18.050000          3.350000            702.666667   \n",
       "std    14.023789        28.294222          2.301087            772.025561   \n",
       "min    32.000000         1.100000          0.300000            194.000000   \n",
       "25%    33.250000         3.050000          1.800000            232.500000   \n",
       "50%    37.000000         8.750000          3.300000            286.000000   \n",
       "75%    51.250000        12.350000          5.100000            915.500000   \n",
       "max    66.000000        75.000000          6.200000           2110.000000   \n",
       "\n",
       "       Alamine_Aminotransferase  Aspartate_Aminotransferase  Total_Protiens  \\\n",
       "count                  6.000000                    6.000000        6.000000   \n",
       "mean                1108.000000                 1640.000000        6.200000   \n",
       "std                  857.871785                 1923.160628        0.846168   \n",
       "min                   40.000000                   66.000000        4.900000   \n",
       "25%                  348.500000                  279.250000        5.825000   \n",
       "50%                 1440.000000                  905.000000        6.200000   \n",
       "75%                 1667.500000                 2449.500000        6.800000   \n",
       "max                 2000.000000                 4929.000000        7.200000   \n",
       "\n",
       "        Albumin  Albumin_and_Globulin_Ratio  Dataset  Gender_Female  \\\n",
       "count  6.000000                    6.000000      6.0            6.0   \n",
       "mean   3.000000                    0.966667      0.0            0.0   \n",
       "std    0.589915                    0.355903      0.0            0.0   \n",
       "min    2.400000                    0.500000      0.0            0.0   \n",
       "25%    2.575000                    0.675000      0.0            0.0   \n",
       "50%    2.900000                    1.050000      0.0            0.0   \n",
       "75%    3.225000                    1.275000      0.0            0.0   \n",
       "max    4.000000                    1.300000      0.0            0.0   \n",
       "\n",
       "       Gender_Male  \n",
       "count          6.0  \n",
       "mean           1.0  \n",
       "std            0.0  \n",
       "min            1.0  \n",
       "25%            1.0  \n",
       "50%            1.0  \n",
       "75%            1.0  \n",
       "max            1.0  "
      ]
     },
     "execution_count": 21,
     "metadata": {},
     "output_type": "execute_result"
    }
   ],
   "source": [
    "df[registros == False].describe()"
   ]
  },
  {
   "cell_type": "code",
   "execution_count": 22,
   "id": "b61bfd68",
   "metadata": {},
   "outputs": [],
   "source": [
    "df = df[registros]"
   ]
  },
  {
   "cell_type": "code",
   "execution_count": 23,
   "id": "e6f94e82",
   "metadata": {},
   "outputs": [
    {
     "data": {
      "text/plain": [
       "(560, 12)"
      ]
     },
     "execution_count": 23,
     "metadata": {},
     "output_type": "execute_result"
    }
   ],
   "source": [
    "df.shape"
   ]
  },
  {
   "cell_type": "markdown",
   "id": "e99409ce",
   "metadata": {},
   "source": [
    "### Pré-Processamento dos Dados"
   ]
  },
  {
   "cell_type": "markdown",
   "id": "76d013e5",
   "metadata": {},
   "source": [
    "#### Retirar Variáveis com Multicoliriariedade"
   ]
  },
  {
   "cell_type": "code",
   "execution_count": 24,
   "id": "c2e50b6d",
   "metadata": {},
   "outputs": [],
   "source": [
    "df.drop('Direct_Bilirubin', 1 , inplace= True)"
   ]
  },
  {
   "cell_type": "markdown",
   "id": "c53dfe87",
   "metadata": {},
   "source": [
    "#### Padronização dos Dados"
   ]
  },
  {
   "cell_type": "code",
   "execution_count": 25,
   "id": "f9ab49c8",
   "metadata": {},
   "outputs": [],
   "source": [
    "# Aplicando padronização\n",
    "df_Stdrd_Sclr = df.drop('Dataset', 1)\n",
    "scaled_features = StandardScaler().fit_transform(df_Stdrd_Sclr.values)\n",
    "df_Stdrd_Sclr = pd.DataFrame(scaled_features, index= df_Stdrd_Sclr.index, columns= df_Stdrd_Sclr.columns)"
   ]
  },
  {
   "cell_type": "code",
   "execution_count": 26,
   "id": "4e1e6d49",
   "metadata": {
    "scrolled": false
   },
   "outputs": [
    {
     "data": {
      "text/html": [
       "<div>\n",
       "<style scoped>\n",
       "    .dataframe tbody tr th:only-of-type {\n",
       "        vertical-align: middle;\n",
       "    }\n",
       "\n",
       "    .dataframe tbody tr th {\n",
       "        vertical-align: top;\n",
       "    }\n",
       "\n",
       "    .dataframe thead th {\n",
       "        text-align: right;\n",
       "    }\n",
       "</style>\n",
       "<table border=\"1\" class=\"dataframe\">\n",
       "  <thead>\n",
       "    <tr style=\"text-align: right;\">\n",
       "      <th></th>\n",
       "      <th>Age</th>\n",
       "      <th>Total_Bilirubin</th>\n",
       "      <th>Alkaline_Phosphotase</th>\n",
       "      <th>Alamine_Aminotransferase</th>\n",
       "      <th>Aspartate_Aminotransferase</th>\n",
       "      <th>Total_Protiens</th>\n",
       "      <th>Albumin</th>\n",
       "      <th>Albumin_and_Globulin_Ratio</th>\n",
       "      <th>Gender_Female</th>\n",
       "      <th>Gender_Male</th>\n",
       "    </tr>\n",
       "  </thead>\n",
       "  <tbody>\n",
       "    <tr>\n",
       "      <th>363</th>\n",
       "      <td>-0.178212</td>\n",
       "      <td>-0.413855</td>\n",
       "      <td>-0.530633</td>\n",
       "      <td>-0.347278</td>\n",
       "      <td>-0.388543</td>\n",
       "      <td>1.838362</td>\n",
       "      <td>1.571572</td>\n",
       "      <td>0.163478</td>\n",
       "      <td>1.748706</td>\n",
       "      <td>-1.748706</td>\n",
       "    </tr>\n",
       "    <tr>\n",
       "      <th>246</th>\n",
       "      <td>0.619687</td>\n",
       "      <td>-0.250581</td>\n",
       "      <td>-0.069675</td>\n",
       "      <td>-0.379486</td>\n",
       "      <td>-0.087339</td>\n",
       "      <td>-0.365508</td>\n",
       "      <td>-0.560892</td>\n",
       "      <td>-0.776115</td>\n",
       "      <td>-0.571852</td>\n",
       "      <td>0.571852</td>\n",
       "    </tr>\n",
       "    <tr>\n",
       "      <th>284</th>\n",
       "      <td>-1.651256</td>\n",
       "      <td>-0.413855</td>\n",
       "      <td>0.050950</td>\n",
       "      <td>-0.315071</td>\n",
       "      <td>-0.274085</td>\n",
       "      <td>1.379222</td>\n",
       "      <td>1.069816</td>\n",
       "      <td>0.163478</td>\n",
       "      <td>-0.571852</td>\n",
       "      <td>0.571852</td>\n",
       "    </tr>\n",
       "    <tr>\n",
       "      <th>495</th>\n",
       "      <td>-0.791980</td>\n",
       "      <td>-0.450138</td>\n",
       "      <td>-0.530633</td>\n",
       "      <td>-0.307019</td>\n",
       "      <td>-0.388543</td>\n",
       "      <td>-0.365508</td>\n",
       "      <td>-0.184575</td>\n",
       "      <td>0.038199</td>\n",
       "      <td>-0.571852</td>\n",
       "      <td>0.571852</td>\n",
       "    </tr>\n",
       "    <tr>\n",
       "      <th>420</th>\n",
       "      <td>0.619687</td>\n",
       "      <td>1.400303</td>\n",
       "      <td>4.574378</td>\n",
       "      <td>-0.170138</td>\n",
       "      <td>-0.219869</td>\n",
       "      <td>-0.090024</td>\n",
       "      <td>-1.062648</td>\n",
       "      <td>-1.402510</td>\n",
       "      <td>1.748706</td>\n",
       "      <td>-1.748706</td>\n",
       "    </tr>\n",
       "  </tbody>\n",
       "</table>\n",
       "</div>"
      ],
      "text/plain": [
       "          Age  Total_Bilirubin  Alkaline_Phosphotase  \\\n",
       "363 -0.178212        -0.413855             -0.530633   \n",
       "246  0.619687        -0.250581             -0.069675   \n",
       "284 -1.651256        -0.413855              0.050950   \n",
       "495 -0.791980        -0.450138             -0.530633   \n",
       "420  0.619687         1.400303              4.574378   \n",
       "\n",
       "     Alamine_Aminotransferase  Aspartate_Aminotransferase  Total_Protiens  \\\n",
       "363                 -0.347278                   -0.388543        1.838362   \n",
       "246                 -0.379486                   -0.087339       -0.365508   \n",
       "284                 -0.315071                   -0.274085        1.379222   \n",
       "495                 -0.307019                   -0.388543       -0.365508   \n",
       "420                 -0.170138                   -0.219869       -0.090024   \n",
       "\n",
       "      Albumin  Albumin_and_Globulin_Ratio  Gender_Female  Gender_Male  \n",
       "363  1.571572                    0.163478       1.748706    -1.748706  \n",
       "246 -0.560892                   -0.776115      -0.571852     0.571852  \n",
       "284  1.069816                    0.163478      -0.571852     0.571852  \n",
       "495 -0.184575                    0.038199      -0.571852     0.571852  \n",
       "420 -1.062648                   -1.402510       1.748706    -1.748706  "
      ]
     },
     "execution_count": 26,
     "metadata": {},
     "output_type": "execute_result"
    }
   ],
   "source": [
    "df_Stdrd_Sclr.sample(5)"
   ]
  },
  {
   "cell_type": "code",
   "execution_count": 27,
   "id": "ebe3a12b",
   "metadata": {
    "scrolled": true
   },
   "outputs": [],
   "source": [
    "df_Stdrd_Sclr['Dataset'] = df.Dataset\n",
    "df = df_Stdrd_Sclr"
   ]
  },
  {
   "cell_type": "code",
   "execution_count": 28,
   "id": "67b5a8a0",
   "metadata": {
    "scrolled": true
   },
   "outputs": [
    {
     "data": {
      "text/html": [
       "<div>\n",
       "<style scoped>\n",
       "    .dataframe tbody tr th:only-of-type {\n",
       "        vertical-align: middle;\n",
       "    }\n",
       "\n",
       "    .dataframe tbody tr th {\n",
       "        vertical-align: top;\n",
       "    }\n",
       "\n",
       "    .dataframe thead th {\n",
       "        text-align: right;\n",
       "    }\n",
       "</style>\n",
       "<table border=\"1\" class=\"dataframe\">\n",
       "  <thead>\n",
       "    <tr style=\"text-align: right;\">\n",
       "      <th></th>\n",
       "      <th>Age</th>\n",
       "      <th>Total_Bilirubin</th>\n",
       "      <th>Alkaline_Phosphotase</th>\n",
       "      <th>Alamine_Aminotransferase</th>\n",
       "      <th>Aspartate_Aminotransferase</th>\n",
       "      <th>Total_Protiens</th>\n",
       "      <th>Albumin</th>\n",
       "      <th>Albumin_and_Globulin_Ratio</th>\n",
       "      <th>Gender_Female</th>\n",
       "      <th>Gender_Male</th>\n",
       "      <th>Dataset</th>\n",
       "    </tr>\n",
       "  </thead>\n",
       "  <tbody>\n",
       "    <tr>\n",
       "      <th>10</th>\n",
       "      <td>0.742441</td>\n",
       "      <td>-0.468279</td>\n",
       "      <td>-0.336772</td>\n",
       "      <td>-0.145983</td>\n",
       "      <td>-0.207820</td>\n",
       "      <td>-0.549164</td>\n",
       "      <td>-0.560892</td>\n",
       "      <td>-0.462917</td>\n",
       "      <td>-0.571852</td>\n",
       "      <td>0.571852</td>\n",
       "      <td>0</td>\n",
       "    </tr>\n",
       "    <tr>\n",
       "      <th>244</th>\n",
       "      <td>0.558310</td>\n",
       "      <td>-0.431996</td>\n",
       "      <td>-0.302308</td>\n",
       "      <td>-0.395589</td>\n",
       "      <td>-0.448784</td>\n",
       "      <td>-0.181852</td>\n",
       "      <td>-0.811770</td>\n",
       "      <td>-1.089313</td>\n",
       "      <td>-0.571852</td>\n",
       "      <td>0.571852</td>\n",
       "      <td>0</td>\n",
       "    </tr>\n",
       "    <tr>\n",
       "      <th>349</th>\n",
       "      <td>0.251426</td>\n",
       "      <td>-0.431996</td>\n",
       "      <td>-0.560790</td>\n",
       "      <td>-0.403641</td>\n",
       "      <td>-0.472880</td>\n",
       "      <td>0.093632</td>\n",
       "      <td>0.568060</td>\n",
       "      <td>0.789873</td>\n",
       "      <td>1.748706</td>\n",
       "      <td>-1.748706</td>\n",
       "      <td>1</td>\n",
       "    </tr>\n",
       "    <tr>\n",
       "      <th>266</th>\n",
       "      <td>1.049325</td>\n",
       "      <td>-0.359430</td>\n",
       "      <td>-0.401393</td>\n",
       "      <td>-0.250656</td>\n",
       "      <td>-0.237941</td>\n",
       "      <td>-0.181852</td>\n",
       "      <td>0.818938</td>\n",
       "      <td>1.729467</td>\n",
       "      <td>-0.571852</td>\n",
       "      <td>0.571852</td>\n",
       "      <td>0</td>\n",
       "    </tr>\n",
       "    <tr>\n",
       "      <th>259</th>\n",
       "      <td>-0.178212</td>\n",
       "      <td>4.956052</td>\n",
       "      <td>-0.013670</td>\n",
       "      <td>-0.033257</td>\n",
       "      <td>0.219890</td>\n",
       "      <td>-1.191959</td>\n",
       "      <td>-1.313526</td>\n",
       "      <td>-1.089313</td>\n",
       "      <td>-0.571852</td>\n",
       "      <td>0.571852</td>\n",
       "      <td>0</td>\n",
       "    </tr>\n",
       "  </tbody>\n",
       "</table>\n",
       "</div>"
      ],
      "text/plain": [
       "          Age  Total_Bilirubin  Alkaline_Phosphotase  \\\n",
       "10   0.742441        -0.468279             -0.336772   \n",
       "244  0.558310        -0.431996             -0.302308   \n",
       "349  0.251426        -0.431996             -0.560790   \n",
       "266  1.049325        -0.359430             -0.401393   \n",
       "259 -0.178212         4.956052             -0.013670   \n",
       "\n",
       "     Alamine_Aminotransferase  Aspartate_Aminotransferase  Total_Protiens  \\\n",
       "10                  -0.145983                   -0.207820       -0.549164   \n",
       "244                 -0.395589                   -0.448784       -0.181852   \n",
       "349                 -0.403641                   -0.472880        0.093632   \n",
       "266                 -0.250656                   -0.237941       -0.181852   \n",
       "259                 -0.033257                    0.219890       -1.191959   \n",
       "\n",
       "      Albumin  Albumin_and_Globulin_Ratio  Gender_Female  Gender_Male  Dataset  \n",
       "10  -0.560892                   -0.462917      -0.571852     0.571852        0  \n",
       "244 -0.811770                   -1.089313      -0.571852     0.571852        0  \n",
       "349  0.568060                    0.789873       1.748706    -1.748706        1  \n",
       "266  0.818938                    1.729467      -0.571852     0.571852        0  \n",
       "259 -1.313526                   -1.089313      -0.571852     0.571852        0  "
      ]
     },
     "execution_count": 28,
     "metadata": {},
     "output_type": "execute_result"
    }
   ],
   "source": [
    "df.sample(5)"
   ]
  },
  {
   "cell_type": "markdown",
   "id": "d4ff328f",
   "metadata": {},
   "source": [
    "#### Divisão dos Dados"
   ]
  },
  {
   "cell_type": "code",
   "execution_count": 29,
   "id": "50eb87e7",
   "metadata": {},
   "outputs": [
    {
     "data": {
      "text/plain": [
       "0      0\n",
       "1      0\n",
       "2      0\n",
       "3      0\n",
       "4      0\n",
       "      ..\n",
       "578    1\n",
       "579    0\n",
       "580    0\n",
       "581    0\n",
       "582    1\n",
       "Name: Dataset, Length: 560, dtype: int64"
      ]
     },
     "execution_count": 29,
     "metadata": {},
     "output_type": "execute_result"
    }
   ],
   "source": [
    "# Variável Alvo\n",
    "y = df.Dataset\n",
    "y"
   ]
  },
  {
   "cell_type": "code",
   "execution_count": 30,
   "id": "346bc548",
   "metadata": {
    "scrolled": true
   },
   "outputs": [
    {
     "data": {
      "text/html": [
       "<div>\n",
       "<style scoped>\n",
       "    .dataframe tbody tr th:only-of-type {\n",
       "        vertical-align: middle;\n",
       "    }\n",
       "\n",
       "    .dataframe tbody tr th {\n",
       "        vertical-align: top;\n",
       "    }\n",
       "\n",
       "    .dataframe thead th {\n",
       "        text-align: right;\n",
       "    }\n",
       "</style>\n",
       "<table border=\"1\" class=\"dataframe\">\n",
       "  <thead>\n",
       "    <tr style=\"text-align: right;\">\n",
       "      <th></th>\n",
       "      <th>Age</th>\n",
       "      <th>Total_Bilirubin</th>\n",
       "      <th>Alkaline_Phosphotase</th>\n",
       "      <th>Alamine_Aminotransferase</th>\n",
       "      <th>Aspartate_Aminotransferase</th>\n",
       "      <th>Total_Protiens</th>\n",
       "      <th>Albumin</th>\n",
       "      <th>Albumin_and_Globulin_Ratio</th>\n",
       "      <th>Gender_Female</th>\n",
       "      <th>Gender_Male</th>\n",
       "    </tr>\n",
       "  </thead>\n",
       "  <tbody>\n",
       "    <tr>\n",
       "      <th>0</th>\n",
       "      <td>1.233455</td>\n",
       "      <td>-0.450138</td>\n",
       "      <td>-0.435857</td>\n",
       "      <td>-0.427797</td>\n",
       "      <td>-0.454808</td>\n",
       "      <td>0.277287</td>\n",
       "      <td>0.191743</td>\n",
       "      <td>-0.149720</td>\n",
       "      <td>1.748706</td>\n",
       "      <td>-1.748706</td>\n",
       "    </tr>\n",
       "    <tr>\n",
       "      <th>1</th>\n",
       "      <td>1.049325</td>\n",
       "      <td>1.400303</td>\n",
       "      <td>1.769853</td>\n",
       "      <td>-0.041309</td>\n",
       "      <td>0.039167</td>\n",
       "      <td>0.920083</td>\n",
       "      <td>0.066304</td>\n",
       "      <td>-0.650836</td>\n",
       "      <td>-0.571852</td>\n",
       "      <td>0.571852</td>\n",
       "    </tr>\n",
       "    <tr>\n",
       "      <th>2</th>\n",
       "      <td>1.049325</td>\n",
       "      <td>0.747206</td>\n",
       "      <td>0.869475</td>\n",
       "      <td>-0.073516</td>\n",
       "      <td>-0.153604</td>\n",
       "      <td>0.460943</td>\n",
       "      <td>0.191743</td>\n",
       "      <td>-0.181039</td>\n",
       "      <td>-0.571852</td>\n",
       "      <td>0.571852</td>\n",
       "    </tr>\n",
       "    <tr>\n",
       "      <th>3</th>\n",
       "      <td>0.803817</td>\n",
       "      <td>-0.395713</td>\n",
       "      <td>-0.457397</td>\n",
       "      <td>-0.443900</td>\n",
       "      <td>-0.442760</td>\n",
       "      <td>0.277287</td>\n",
       "      <td>0.317182</td>\n",
       "      <td>0.163478</td>\n",
       "      <td>-0.571852</td>\n",
       "      <td>0.571852</td>\n",
       "    </tr>\n",
       "    <tr>\n",
       "      <th>4</th>\n",
       "      <td>1.663093</td>\n",
       "      <td>0.130393</td>\n",
       "      <td>-0.401393</td>\n",
       "      <td>-0.339226</td>\n",
       "      <td>-0.207820</td>\n",
       "      <td>0.736427</td>\n",
       "      <td>-0.937209</td>\n",
       "      <td>-1.715708</td>\n",
       "      <td>-0.571852</td>\n",
       "      <td>0.571852</td>\n",
       "    </tr>\n",
       "    <tr>\n",
       "      <th>...</th>\n",
       "      <td>...</td>\n",
       "      <td>...</td>\n",
       "      <td>...</td>\n",
       "      <td>...</td>\n",
       "      <td>...</td>\n",
       "      <td>...</td>\n",
       "      <td>...</td>\n",
       "      <td>...</td>\n",
       "      <td>...</td>\n",
       "      <td>...</td>\n",
       "    </tr>\n",
       "    <tr>\n",
       "      <th>578</th>\n",
       "      <td>0.926571</td>\n",
       "      <td>-0.486421</td>\n",
       "      <td>0.912555</td>\n",
       "      <td>-0.395589</td>\n",
       "      <td>-0.358423</td>\n",
       "      <td>-0.549164</td>\n",
       "      <td>-1.940722</td>\n",
       "      <td>-1.809667</td>\n",
       "      <td>-0.571852</td>\n",
       "      <td>0.571852</td>\n",
       "    </tr>\n",
       "    <tr>\n",
       "      <th>579</th>\n",
       "      <td>-0.300966</td>\n",
       "      <td>-0.468279</td>\n",
       "      <td>-0.819271</td>\n",
       "      <td>-0.274812</td>\n",
       "      <td>-0.376495</td>\n",
       "      <td>-0.457336</td>\n",
       "      <td>0.066304</td>\n",
       "      <td>0.476676</td>\n",
       "      <td>-0.571852</td>\n",
       "      <td>0.571852</td>\n",
       "    </tr>\n",
       "    <tr>\n",
       "      <th>580</th>\n",
       "      <td>0.435556</td>\n",
       "      <td>-0.431996</td>\n",
       "      <td>-0.185991</td>\n",
       "      <td>-0.170138</td>\n",
       "      <td>-0.268061</td>\n",
       "      <td>-0.090024</td>\n",
       "      <td>0.066304</td>\n",
       "      <td>0.163478</td>\n",
       "      <td>-0.571852</td>\n",
       "      <td>0.571852</td>\n",
       "    </tr>\n",
       "    <tr>\n",
       "      <th>581</th>\n",
       "      <td>-0.853357</td>\n",
       "      <td>-0.341288</td>\n",
       "      <td>-0.448781</td>\n",
       "      <td>-0.323123</td>\n",
       "      <td>-0.370471</td>\n",
       "      <td>0.277287</td>\n",
       "      <td>0.317182</td>\n",
       "      <td>0.163478</td>\n",
       "      <td>-0.571852</td>\n",
       "      <td>0.571852</td>\n",
       "    </tr>\n",
       "    <tr>\n",
       "      <th>582</th>\n",
       "      <td>-0.423719</td>\n",
       "      <td>-0.395713</td>\n",
       "      <td>-0.310924</td>\n",
       "      <td>-0.387537</td>\n",
       "      <td>-0.418664</td>\n",
       "      <td>0.736427</td>\n",
       "      <td>1.571572</td>\n",
       "      <td>1.729467</td>\n",
       "      <td>-0.571852</td>\n",
       "      <td>0.571852</td>\n",
       "    </tr>\n",
       "  </tbody>\n",
       "</table>\n",
       "<p>560 rows × 10 columns</p>\n",
       "</div>"
      ],
      "text/plain": [
       "          Age  Total_Bilirubin  Alkaline_Phosphotase  \\\n",
       "0    1.233455        -0.450138             -0.435857   \n",
       "1    1.049325         1.400303              1.769853   \n",
       "2    1.049325         0.747206              0.869475   \n",
       "3    0.803817        -0.395713             -0.457397   \n",
       "4    1.663093         0.130393             -0.401393   \n",
       "..        ...              ...                   ...   \n",
       "578  0.926571        -0.486421              0.912555   \n",
       "579 -0.300966        -0.468279             -0.819271   \n",
       "580  0.435556        -0.431996             -0.185991   \n",
       "581 -0.853357        -0.341288             -0.448781   \n",
       "582 -0.423719        -0.395713             -0.310924   \n",
       "\n",
       "     Alamine_Aminotransferase  Aspartate_Aminotransferase  Total_Protiens  \\\n",
       "0                   -0.427797                   -0.454808        0.277287   \n",
       "1                   -0.041309                    0.039167        0.920083   \n",
       "2                   -0.073516                   -0.153604        0.460943   \n",
       "3                   -0.443900                   -0.442760        0.277287   \n",
       "4                   -0.339226                   -0.207820        0.736427   \n",
       "..                        ...                         ...             ...   \n",
       "578                 -0.395589                   -0.358423       -0.549164   \n",
       "579                 -0.274812                   -0.376495       -0.457336   \n",
       "580                 -0.170138                   -0.268061       -0.090024   \n",
       "581                 -0.323123                   -0.370471        0.277287   \n",
       "582                 -0.387537                   -0.418664        0.736427   \n",
       "\n",
       "      Albumin  Albumin_and_Globulin_Ratio  Gender_Female  Gender_Male  \n",
       "0    0.191743                   -0.149720       1.748706    -1.748706  \n",
       "1    0.066304                   -0.650836      -0.571852     0.571852  \n",
       "2    0.191743                   -0.181039      -0.571852     0.571852  \n",
       "3    0.317182                    0.163478      -0.571852     0.571852  \n",
       "4   -0.937209                   -1.715708      -0.571852     0.571852  \n",
       "..        ...                         ...            ...          ...  \n",
       "578 -1.940722                   -1.809667      -0.571852     0.571852  \n",
       "579  0.066304                    0.476676      -0.571852     0.571852  \n",
       "580  0.066304                    0.163478      -0.571852     0.571852  \n",
       "581  0.317182                    0.163478      -0.571852     0.571852  \n",
       "582  1.571572                    1.729467      -0.571852     0.571852  \n",
       "\n",
       "[560 rows x 10 columns]"
      ]
     },
     "execution_count": 30,
     "metadata": {},
     "output_type": "execute_result"
    }
   ],
   "source": [
    "#Retirando Variavel Alvo do Dataset\n",
    "x = df.drop('Dataset', 1)\n",
    "x"
   ]
  },
  {
   "cell_type": "code",
   "execution_count": 31,
   "id": "c922ba70",
   "metadata": {},
   "outputs": [],
   "source": [
    "#Separando Dados\n",
    "x_train, x_test, y_train, y_test = train_test_split(x, \n",
    "                                                    y, \n",
    "                                                    test_size = 0.25, \n",
    "                                                    random_state = 1234,\n",
    "                                                    stratify= df.Dataset)"
   ]
  },
  {
   "cell_type": "markdown",
   "id": "7bc28ef6",
   "metadata": {},
   "source": [
    "#### Balanceamento de Classe"
   ]
  },
  {
   "cell_type": "code",
   "execution_count": 32,
   "id": "d01ddfe3",
   "metadata": {},
   "outputs": [],
   "source": [
    "# Caso necessário a intalação do pacote\n",
    "#conda install -c conda-forge imbalanced-learn"
   ]
  },
  {
   "cell_type": "code",
   "execution_count": 33,
   "id": "bcc91466",
   "metadata": {},
   "outputs": [
    {
     "data": {
      "text/plain": [
       "0    298\n",
       "1    122\n",
       "Name: Dataset, dtype: int64"
      ]
     },
     "execution_count": 33,
     "metadata": {},
     "output_type": "execute_result"
    }
   ],
   "source": [
    "y_train.value_counts()"
   ]
  },
  {
   "cell_type": "code",
   "execution_count": 34,
   "id": "f8431877",
   "metadata": {},
   "outputs": [],
   "source": [
    "# Aplicação de Oversampling para Aumento de exemplos da Classe Minoritária\n",
    "\n",
    "over_sampler = SMOTE(k_neighbors= 2)\n",
    "x_over_train, y_over_train = over_sampler.fit_resample(x_train, y_train)\n"
   ]
  },
  {
   "cell_type": "code",
   "execution_count": 35,
   "id": "32d3ead5",
   "metadata": {
    "scrolled": true
   },
   "outputs": [
    {
     "data": {
      "text/plain": [
       "1    298\n",
       "0    298\n",
       "Name: Dataset, dtype: int64"
      ]
     },
     "execution_count": 35,
     "metadata": {},
     "output_type": "execute_result"
    }
   ],
   "source": [
    "y_over_train.value_counts()\n"
   ]
  },
  {
   "cell_type": "markdown",
   "id": "ecda3fa3",
   "metadata": {},
   "source": [
    "### Primeiro Modelo: Regressão Logística (Modelo Base)"
   ]
  },
  {
   "cell_type": "code",
   "execution_count": 36,
   "id": "6c929413",
   "metadata": {},
   "outputs": [],
   "source": [
    "# Dicionário de Hiperparâmetros\n",
    "\n",
    "params_v1 = {'C': [0.0001, 0.001, 0.01, 0.1, 1, 10, 100, 1000, 10000],\n",
    "            'penalty': ['l1', 'l2', 'none','elasticnet']}"
   ]
  },
  {
   "cell_type": "code",
   "execution_count": 37,
   "id": "acf28351",
   "metadata": {},
   "outputs": [],
   "source": [
    "# Modelo Base\n",
    "\n",
    "model_v1 = GridSearchCV(LogisticRegression(), \n",
    "                        params_v1,\n",
    "                        scoring= 'roc_auc',\n",
    "                        n_jobs= -1)"
   ]
  },
  {
   "cell_type": "code",
   "execution_count": 38,
   "id": "495786f2",
   "metadata": {},
   "outputs": [
    {
     "data": {
      "text/html": [
       "<style>#sk-container-id-1 {color: black;background-color: white;}#sk-container-id-1 pre{padding: 0;}#sk-container-id-1 div.sk-toggleable {background-color: white;}#sk-container-id-1 label.sk-toggleable__label {cursor: pointer;display: block;width: 100%;margin-bottom: 0;padding: 0.3em;box-sizing: border-box;text-align: center;}#sk-container-id-1 label.sk-toggleable__label-arrow:before {content: \"▸\";float: left;margin-right: 0.25em;color: #696969;}#sk-container-id-1 label.sk-toggleable__label-arrow:hover:before {color: black;}#sk-container-id-1 div.sk-estimator:hover label.sk-toggleable__label-arrow:before {color: black;}#sk-container-id-1 div.sk-toggleable__content {max-height: 0;max-width: 0;overflow: hidden;text-align: left;background-color: #f0f8ff;}#sk-container-id-1 div.sk-toggleable__content pre {margin: 0.2em;color: black;border-radius: 0.25em;background-color: #f0f8ff;}#sk-container-id-1 input.sk-toggleable__control:checked~div.sk-toggleable__content {max-height: 200px;max-width: 100%;overflow: auto;}#sk-container-id-1 input.sk-toggleable__control:checked~label.sk-toggleable__label-arrow:before {content: \"▾\";}#sk-container-id-1 div.sk-estimator input.sk-toggleable__control:checked~label.sk-toggleable__label {background-color: #d4ebff;}#sk-container-id-1 div.sk-label input.sk-toggleable__control:checked~label.sk-toggleable__label {background-color: #d4ebff;}#sk-container-id-1 input.sk-hidden--visually {border: 0;clip: rect(1px 1px 1px 1px);clip: rect(1px, 1px, 1px, 1px);height: 1px;margin: -1px;overflow: hidden;padding: 0;position: absolute;width: 1px;}#sk-container-id-1 div.sk-estimator {font-family: monospace;background-color: #f0f8ff;border: 1px dotted black;border-radius: 0.25em;box-sizing: border-box;margin-bottom: 0.5em;}#sk-container-id-1 div.sk-estimator:hover {background-color: #d4ebff;}#sk-container-id-1 div.sk-parallel-item::after {content: \"\";width: 100%;border-bottom: 1px solid gray;flex-grow: 1;}#sk-container-id-1 div.sk-label:hover label.sk-toggleable__label {background-color: #d4ebff;}#sk-container-id-1 div.sk-serial::before {content: \"\";position: absolute;border-left: 1px solid gray;box-sizing: border-box;top: 0;bottom: 0;left: 50%;z-index: 0;}#sk-container-id-1 div.sk-serial {display: flex;flex-direction: column;align-items: center;background-color: white;padding-right: 0.2em;padding-left: 0.2em;position: relative;}#sk-container-id-1 div.sk-item {position: relative;z-index: 1;}#sk-container-id-1 div.sk-parallel {display: flex;align-items: stretch;justify-content: center;background-color: white;position: relative;}#sk-container-id-1 div.sk-item::before, #sk-container-id-1 div.sk-parallel-item::before {content: \"\";position: absolute;border-left: 1px solid gray;box-sizing: border-box;top: 0;bottom: 0;left: 50%;z-index: -1;}#sk-container-id-1 div.sk-parallel-item {display: flex;flex-direction: column;z-index: 1;position: relative;background-color: white;}#sk-container-id-1 div.sk-parallel-item:first-child::after {align-self: flex-end;width: 50%;}#sk-container-id-1 div.sk-parallel-item:last-child::after {align-self: flex-start;width: 50%;}#sk-container-id-1 div.sk-parallel-item:only-child::after {width: 0;}#sk-container-id-1 div.sk-dashed-wrapped {border: 1px dashed gray;margin: 0 0.4em 0.5em 0.4em;box-sizing: border-box;padding-bottom: 0.4em;background-color: white;}#sk-container-id-1 div.sk-label label {font-family: monospace;font-weight: bold;display: inline-block;line-height: 1.2em;}#sk-container-id-1 div.sk-label-container {text-align: center;}#sk-container-id-1 div.sk-container {/* jupyter's `normalize.less` sets `[hidden] { display: none; }` but bootstrap.min.css set `[hidden] { display: none !important; }` so we also need the `!important` here to be able to override the default hidden behavior on the sphinx rendered scikit-learn.org. See: https://github.com/scikit-learn/scikit-learn/issues/21755 */display: inline-block !important;position: relative;}#sk-container-id-1 div.sk-text-repr-fallback {display: none;}</style><div id=\"sk-container-id-1\" class=\"sk-top-container\"><div class=\"sk-text-repr-fallback\"><pre>GridSearchCV(estimator=LogisticRegression(), n_jobs=-1,\n",
       "             param_grid={&#x27;C&#x27;: [0.0001, 0.001, 0.01, 0.1, 1, 10, 100, 1000,\n",
       "                               10000],\n",
       "                         &#x27;penalty&#x27;: [&#x27;l1&#x27;, &#x27;l2&#x27;, &#x27;none&#x27;, &#x27;elasticnet&#x27;]},\n",
       "             scoring=&#x27;roc_auc&#x27;)</pre><b>In a Jupyter environment, please rerun this cell to show the HTML representation or trust the notebook. <br />On GitHub, the HTML representation is unable to render, please try loading this page with nbviewer.org.</b></div><div class=\"sk-container\" hidden><div class=\"sk-item sk-dashed-wrapped\"><div class=\"sk-label-container\"><div class=\"sk-label sk-toggleable\"><input class=\"sk-toggleable__control sk-hidden--visually\" id=\"sk-estimator-id-1\" type=\"checkbox\" ><label for=\"sk-estimator-id-1\" class=\"sk-toggleable__label sk-toggleable__label-arrow\">GridSearchCV</label><div class=\"sk-toggleable__content\"><pre>GridSearchCV(estimator=LogisticRegression(), n_jobs=-1,\n",
       "             param_grid={&#x27;C&#x27;: [0.0001, 0.001, 0.01, 0.1, 1, 10, 100, 1000,\n",
       "                               10000],\n",
       "                         &#x27;penalty&#x27;: [&#x27;l1&#x27;, &#x27;l2&#x27;, &#x27;none&#x27;, &#x27;elasticnet&#x27;]},\n",
       "             scoring=&#x27;roc_auc&#x27;)</pre></div></div></div><div class=\"sk-parallel\"><div class=\"sk-parallel-item\"><div class=\"sk-item\"><div class=\"sk-label-container\"><div class=\"sk-label sk-toggleable\"><input class=\"sk-toggleable__control sk-hidden--visually\" id=\"sk-estimator-id-2\" type=\"checkbox\" ><label for=\"sk-estimator-id-2\" class=\"sk-toggleable__label sk-toggleable__label-arrow\">estimator: LogisticRegression</label><div class=\"sk-toggleable__content\"><pre>LogisticRegression()</pre></div></div></div><div class=\"sk-serial\"><div class=\"sk-item\"><div class=\"sk-estimator sk-toggleable\"><input class=\"sk-toggleable__control sk-hidden--visually\" id=\"sk-estimator-id-3\" type=\"checkbox\" ><label for=\"sk-estimator-id-3\" class=\"sk-toggleable__label sk-toggleable__label-arrow\">LogisticRegression</label><div class=\"sk-toggleable__content\"><pre>LogisticRegression()</pre></div></div></div></div></div></div></div></div></div></div>"
      ],
      "text/plain": [
       "GridSearchCV(estimator=LogisticRegression(), n_jobs=-1,\n",
       "             param_grid={'C': [0.0001, 0.001, 0.01, 0.1, 1, 10, 100, 1000,\n",
       "                               10000],\n",
       "                         'penalty': ['l1', 'l2', 'none', 'elasticnet']},\n",
       "             scoring='roc_auc')"
      ]
     },
     "execution_count": 38,
     "metadata": {},
     "output_type": "execute_result"
    }
   ],
   "source": [
    "model_v1.fit(x_over_train, y_over_train)"
   ]
  },
  {
   "cell_type": "code",
   "execution_count": 39,
   "id": "f1fd380e",
   "metadata": {},
   "outputs": [
    {
     "data": {
      "text/plain": [
       "{'C': 0.1, 'penalty': 'l2'}"
      ]
     },
     "execution_count": 39,
     "metadata": {},
     "output_type": "execute_result"
    }
   ],
   "source": [
    "# Melhores Parâmetros\n",
    "model_v1.best_params_"
   ]
  },
  {
   "cell_type": "code",
   "execution_count": 40,
   "id": "e74db539",
   "metadata": {},
   "outputs": [],
   "source": [
    "# Fazendo Previsões\n",
    "y_prev_v1 = model_v1.predict(x_test)"
   ]
  },
  {
   "cell_type": "code",
   "execution_count": 41,
   "id": "4a25fc56",
   "metadata": {},
   "outputs": [],
   "source": [
    "#Provabilidade da Previsão\n",
    "y_prev_prob_v1 = model_v1.predict_proba(x_test)[:,1]"
   ]
  },
  {
   "cell_type": "code",
   "execution_count": 42,
   "id": "459cf76e",
   "metadata": {},
   "outputs": [],
   "source": [
    "# Matriz de Confusão \n",
    "tn1, fp1, fn1, tp1 = confusion_matrix(y_test, y_prev_v1).ravel()"
   ]
  },
  {
   "cell_type": "code",
   "execution_count": 43,
   "id": "ff9746a7",
   "metadata": {},
   "outputs": [
    {
     "data": {
      "text/plain": [
       "0.7450000000000001"
      ]
     },
     "execution_count": 43,
     "metadata": {},
     "output_type": "execute_result"
    }
   ],
   "source": [
    "# ROC score\n",
    "roc_auc_v1 = roc_auc_score(y_test, y_prev_v1)\n",
    "roc_auc_v1"
   ]
  },
  {
   "cell_type": "code",
   "execution_count": 44,
   "id": "bb516f5c",
   "metadata": {},
   "outputs": [
    {
     "data": {
      "text/plain": [
       "0.8205"
      ]
     },
     "execution_count": 44,
     "metadata": {},
     "output_type": "execute_result"
    }
   ],
   "source": [
    "# AUC Score\n",
    "fpr_v1, tpr_v1, thresholds = roc_curve(y_test, y_prev_prob_v1)\n",
    "auc_v1 = auc(fpr_v1,tpr_v1)\n",
    "auc_v1"
   ]
  },
  {
   "cell_type": "code",
   "execution_count": 45,
   "id": "c53a8464",
   "metadata": {},
   "outputs": [
    {
     "data": {
      "text/plain": [
       "0.7"
      ]
     },
     "execution_count": 45,
     "metadata": {},
     "output_type": "execute_result"
    }
   ],
   "source": [
    "# Acurácia \n",
    "acc_v1 = accuracy_score(y_test, y_prev_v1)\n",
    "acc_v1"
   ]
  },
  {
   "cell_type": "code",
   "execution_count": 46,
   "id": "87ca431a",
   "metadata": {},
   "outputs": [
    {
     "data": {
      "text/html": [
       "<div>\n",
       "<style scoped>\n",
       "    .dataframe tbody tr th:only-of-type {\n",
       "        vertical-align: middle;\n",
       "    }\n",
       "\n",
       "    .dataframe tbody tr th {\n",
       "        vertical-align: top;\n",
       "    }\n",
       "\n",
       "    .dataframe thead th {\n",
       "        text-align: right;\n",
       "    }\n",
       "</style>\n",
       "<table border=\"1\" class=\"dataframe\">\n",
       "  <thead>\n",
       "    <tr style=\"text-align: right;\">\n",
       "      <th></th>\n",
       "      <th>Nome</th>\n",
       "      <th>Algoritmo</th>\n",
       "      <th>ROC_AUC Score</th>\n",
       "      <th>AUC Score</th>\n",
       "      <th>Acurácia</th>\n",
       "      <th>Verdadeiro Negativo</th>\n",
       "      <th>Falso Negativo</th>\n",
       "      <th>Verdadeiro Positivo</th>\n",
       "      <th>Falso Positivo</th>\n",
       "    </tr>\n",
       "  </thead>\n",
       "  <tbody>\n",
       "    <tr>\n",
       "      <th>0</th>\n",
       "      <td>model_v1</td>\n",
       "      <td>Regressão Logistica</td>\n",
       "      <td>0.745</td>\n",
       "      <td>0.8205</td>\n",
       "      <td>0.7</td>\n",
       "      <td>64</td>\n",
       "      <td>6</td>\n",
       "      <td>34</td>\n",
       "      <td>36</td>\n",
       "    </tr>\n",
       "  </tbody>\n",
       "</table>\n",
       "</div>"
      ],
      "text/plain": [
       "       Nome            Algoritmo  ROC_AUC Score  AUC Score  Acurácia  \\\n",
       "0  model_v1  Regressão Logistica          0.745     0.8205       0.7   \n",
       "\n",
       "   Verdadeiro Negativo  Falso Negativo  Verdadeiro Positivo  Falso Positivo  \n",
       "0                   64               6                   34              36  "
      ]
     },
     "execution_count": 46,
     "metadata": {},
     "output_type": "execute_result"
    }
   ],
   "source": [
    "# Criando Tabela para Comparação\n",
    "dic_model_1 = {'Nome': 'model_v1', \n",
    "              'Algoritmo': 'Regressão Logistica', \n",
    "              'ROC_AUC Score': roc_auc_v1, \n",
    "              'AUC Score': auc_v1, \n",
    "              'Acurácia': acc_v1, \n",
    "              'Verdadeiro Negativo': tn1, \n",
    "              'Falso Negativo': fn1,\n",
    "              'Verdadeiro Positivo': tp1,\n",
    "              'Falso Positivo': fp1\n",
    "             }\n",
    "df_models = pd.DataFrame(dic_model_1, index = [0])\n",
    "df_models"
   ]
  },
  {
   "cell_type": "markdown",
   "id": "26375dc3",
   "metadata": {},
   "source": [
    "### Segundo Modelo: Randon Forest"
   ]
  },
  {
   "cell_type": "code",
   "execution_count": 47,
   "id": "c927bc01",
   "metadata": {},
   "outputs": [],
   "source": [
    "# Hiperparâmetros \n",
    "params_v2 = {'n_estimators': [100, 200, 300, 400, 500, 600], \n",
    "             'min_samples_split': [2, 5, 10], \n",
    "             'min_samples_leaf': [1, 2, 4]}"
   ]
  },
  {
   "cell_type": "code",
   "execution_count": 48,
   "id": "f7c95936",
   "metadata": {},
   "outputs": [],
   "source": [
    "# Criando o Modelo\n",
    "model_v2 = RandomizedSearchCV(RandomForestClassifier(), \n",
    "                              params_v2,\n",
    "                              n_iter= 15, \n",
    "                              scoring = 'roc_auc',\n",
    "                              n_jobs = -1)"
   ]
  },
  {
   "cell_type": "code",
   "execution_count": 49,
   "id": "46011fa0",
   "metadata": {},
   "outputs": [
    {
     "data": {
      "text/html": [
       "<style>#sk-container-id-2 {color: black;background-color: white;}#sk-container-id-2 pre{padding: 0;}#sk-container-id-2 div.sk-toggleable {background-color: white;}#sk-container-id-2 label.sk-toggleable__label {cursor: pointer;display: block;width: 100%;margin-bottom: 0;padding: 0.3em;box-sizing: border-box;text-align: center;}#sk-container-id-2 label.sk-toggleable__label-arrow:before {content: \"▸\";float: left;margin-right: 0.25em;color: #696969;}#sk-container-id-2 label.sk-toggleable__label-arrow:hover:before {color: black;}#sk-container-id-2 div.sk-estimator:hover label.sk-toggleable__label-arrow:before {color: black;}#sk-container-id-2 div.sk-toggleable__content {max-height: 0;max-width: 0;overflow: hidden;text-align: left;background-color: #f0f8ff;}#sk-container-id-2 div.sk-toggleable__content pre {margin: 0.2em;color: black;border-radius: 0.25em;background-color: #f0f8ff;}#sk-container-id-2 input.sk-toggleable__control:checked~div.sk-toggleable__content {max-height: 200px;max-width: 100%;overflow: auto;}#sk-container-id-2 input.sk-toggleable__control:checked~label.sk-toggleable__label-arrow:before {content: \"▾\";}#sk-container-id-2 div.sk-estimator input.sk-toggleable__control:checked~label.sk-toggleable__label {background-color: #d4ebff;}#sk-container-id-2 div.sk-label input.sk-toggleable__control:checked~label.sk-toggleable__label {background-color: #d4ebff;}#sk-container-id-2 input.sk-hidden--visually {border: 0;clip: rect(1px 1px 1px 1px);clip: rect(1px, 1px, 1px, 1px);height: 1px;margin: -1px;overflow: hidden;padding: 0;position: absolute;width: 1px;}#sk-container-id-2 div.sk-estimator {font-family: monospace;background-color: #f0f8ff;border: 1px dotted black;border-radius: 0.25em;box-sizing: border-box;margin-bottom: 0.5em;}#sk-container-id-2 div.sk-estimator:hover {background-color: #d4ebff;}#sk-container-id-2 div.sk-parallel-item::after {content: \"\";width: 100%;border-bottom: 1px solid gray;flex-grow: 1;}#sk-container-id-2 div.sk-label:hover label.sk-toggleable__label {background-color: #d4ebff;}#sk-container-id-2 div.sk-serial::before {content: \"\";position: absolute;border-left: 1px solid gray;box-sizing: border-box;top: 0;bottom: 0;left: 50%;z-index: 0;}#sk-container-id-2 div.sk-serial {display: flex;flex-direction: column;align-items: center;background-color: white;padding-right: 0.2em;padding-left: 0.2em;position: relative;}#sk-container-id-2 div.sk-item {position: relative;z-index: 1;}#sk-container-id-2 div.sk-parallel {display: flex;align-items: stretch;justify-content: center;background-color: white;position: relative;}#sk-container-id-2 div.sk-item::before, #sk-container-id-2 div.sk-parallel-item::before {content: \"\";position: absolute;border-left: 1px solid gray;box-sizing: border-box;top: 0;bottom: 0;left: 50%;z-index: -1;}#sk-container-id-2 div.sk-parallel-item {display: flex;flex-direction: column;z-index: 1;position: relative;background-color: white;}#sk-container-id-2 div.sk-parallel-item:first-child::after {align-self: flex-end;width: 50%;}#sk-container-id-2 div.sk-parallel-item:last-child::after {align-self: flex-start;width: 50%;}#sk-container-id-2 div.sk-parallel-item:only-child::after {width: 0;}#sk-container-id-2 div.sk-dashed-wrapped {border: 1px dashed gray;margin: 0 0.4em 0.5em 0.4em;box-sizing: border-box;padding-bottom: 0.4em;background-color: white;}#sk-container-id-2 div.sk-label label {font-family: monospace;font-weight: bold;display: inline-block;line-height: 1.2em;}#sk-container-id-2 div.sk-label-container {text-align: center;}#sk-container-id-2 div.sk-container {/* jupyter's `normalize.less` sets `[hidden] { display: none; }` but bootstrap.min.css set `[hidden] { display: none !important; }` so we also need the `!important` here to be able to override the default hidden behavior on the sphinx rendered scikit-learn.org. See: https://github.com/scikit-learn/scikit-learn/issues/21755 */display: inline-block !important;position: relative;}#sk-container-id-2 div.sk-text-repr-fallback {display: none;}</style><div id=\"sk-container-id-2\" class=\"sk-top-container\"><div class=\"sk-text-repr-fallback\"><pre>RandomizedSearchCV(estimator=RandomForestClassifier(), n_iter=15, n_jobs=-1,\n",
       "                   param_distributions={&#x27;min_samples_leaf&#x27;: [1, 2, 4],\n",
       "                                        &#x27;min_samples_split&#x27;: [2, 5, 10],\n",
       "                                        &#x27;n_estimators&#x27;: [100, 200, 300, 400,\n",
       "                                                         500, 600]},\n",
       "                   scoring=&#x27;roc_auc&#x27;)</pre><b>In a Jupyter environment, please rerun this cell to show the HTML representation or trust the notebook. <br />On GitHub, the HTML representation is unable to render, please try loading this page with nbviewer.org.</b></div><div class=\"sk-container\" hidden><div class=\"sk-item sk-dashed-wrapped\"><div class=\"sk-label-container\"><div class=\"sk-label sk-toggleable\"><input class=\"sk-toggleable__control sk-hidden--visually\" id=\"sk-estimator-id-4\" type=\"checkbox\" ><label for=\"sk-estimator-id-4\" class=\"sk-toggleable__label sk-toggleable__label-arrow\">RandomizedSearchCV</label><div class=\"sk-toggleable__content\"><pre>RandomizedSearchCV(estimator=RandomForestClassifier(), n_iter=15, n_jobs=-1,\n",
       "                   param_distributions={&#x27;min_samples_leaf&#x27;: [1, 2, 4],\n",
       "                                        &#x27;min_samples_split&#x27;: [2, 5, 10],\n",
       "                                        &#x27;n_estimators&#x27;: [100, 200, 300, 400,\n",
       "                                                         500, 600]},\n",
       "                   scoring=&#x27;roc_auc&#x27;)</pre></div></div></div><div class=\"sk-parallel\"><div class=\"sk-parallel-item\"><div class=\"sk-item\"><div class=\"sk-label-container\"><div class=\"sk-label sk-toggleable\"><input class=\"sk-toggleable__control sk-hidden--visually\" id=\"sk-estimator-id-5\" type=\"checkbox\" ><label for=\"sk-estimator-id-5\" class=\"sk-toggleable__label sk-toggleable__label-arrow\">estimator: RandomForestClassifier</label><div class=\"sk-toggleable__content\"><pre>RandomForestClassifier()</pre></div></div></div><div class=\"sk-serial\"><div class=\"sk-item\"><div class=\"sk-estimator sk-toggleable\"><input class=\"sk-toggleable__control sk-hidden--visually\" id=\"sk-estimator-id-6\" type=\"checkbox\" ><label for=\"sk-estimator-id-6\" class=\"sk-toggleable__label sk-toggleable__label-arrow\">RandomForestClassifier</label><div class=\"sk-toggleable__content\"><pre>RandomForestClassifier()</pre></div></div></div></div></div></div></div></div></div></div>"
      ],
      "text/plain": [
       "RandomizedSearchCV(estimator=RandomForestClassifier(), n_iter=15, n_jobs=-1,\n",
       "                   param_distributions={'min_samples_leaf': [1, 2, 4],\n",
       "                                        'min_samples_split': [2, 5, 10],\n",
       "                                        'n_estimators': [100, 200, 300, 400,\n",
       "                                                         500, 600]},\n",
       "                   scoring='roc_auc')"
      ]
     },
     "execution_count": 49,
     "metadata": {},
     "output_type": "execute_result"
    }
   ],
   "source": [
    "\n",
    "model_v2.fit(x_over_train, y_over_train)"
   ]
  },
  {
   "cell_type": "code",
   "execution_count": 50,
   "id": "e0768464",
   "metadata": {},
   "outputs": [
    {
     "data": {
      "text/plain": [
       "{'n_estimators': 500, 'min_samples_split': 2, 'min_samples_leaf': 1}"
      ]
     },
     "execution_count": 50,
     "metadata": {},
     "output_type": "execute_result"
    }
   ],
   "source": [
    "# Melhores Parâmetros\n",
    "model_v2.best_params_"
   ]
  },
  {
   "cell_type": "code",
   "execution_count": 51,
   "id": "1b0455ac",
   "metadata": {},
   "outputs": [],
   "source": [
    "#Previsão\n",
    "y_prev_v2 = model_v2.predict(x_test)"
   ]
  },
  {
   "cell_type": "code",
   "execution_count": 52,
   "id": "4ac64bbb",
   "metadata": {},
   "outputs": [],
   "source": [
    "#Provabilidade da Previsão\n",
    "y_prev_prob_v2 = model_v2.predict_proba(x_test)[:,1]"
   ]
  },
  {
   "cell_type": "code",
   "execution_count": 53,
   "id": "a4742c15",
   "metadata": {},
   "outputs": [],
   "source": [
    "# Matriz de Confusão \n",
    "tn2, fp2, fn2, tp2 = confusion_matrix(y_test, y_prev_v2).ravel()"
   ]
  },
  {
   "cell_type": "code",
   "execution_count": 54,
   "id": "94155f76",
   "metadata": {},
   "outputs": [
    {
     "data": {
      "text/plain": [
       "0.665"
      ]
     },
     "execution_count": 54,
     "metadata": {},
     "output_type": "execute_result"
    }
   ],
   "source": [
    "# ROC score\n",
    "roc_auc_v2 = roc_auc_score(y_test, y_prev_v2)\n",
    "roc_auc_v2"
   ]
  },
  {
   "cell_type": "code",
   "execution_count": 55,
   "id": "0d33c1a1",
   "metadata": {},
   "outputs": [
    {
     "data": {
      "text/plain": [
       "0.748875"
      ]
     },
     "execution_count": 55,
     "metadata": {},
     "output_type": "execute_result"
    }
   ],
   "source": [
    "# AUC Score\n",
    "fpr_v2, tpr_v2, thresholds = roc_curve(y_test, y_prev_prob_v2)\n",
    "auc_v2 = auc(fpr_v2,tpr_v2)\n",
    "auc_v2"
   ]
  },
  {
   "cell_type": "code",
   "execution_count": 56,
   "id": "3a0ed190",
   "metadata": {},
   "outputs": [
    {
     "data": {
      "text/plain": [
       "0.7142857142857143"
      ]
     },
     "execution_count": 56,
     "metadata": {},
     "output_type": "execute_result"
    }
   ],
   "source": [
    "# Acurácia \n",
    "acc_v2 = accuracy_score(y_test, y_prev_v2)\n",
    "acc_v2"
   ]
  },
  {
   "cell_type": "code",
   "execution_count": 57,
   "id": "c0811a54",
   "metadata": {
    "scrolled": true
   },
   "outputs": [
    {
     "data": {
      "text/html": [
       "<div>\n",
       "<style scoped>\n",
       "    .dataframe tbody tr th:only-of-type {\n",
       "        vertical-align: middle;\n",
       "    }\n",
       "\n",
       "    .dataframe tbody tr th {\n",
       "        vertical-align: top;\n",
       "    }\n",
       "\n",
       "    .dataframe thead th {\n",
       "        text-align: right;\n",
       "    }\n",
       "</style>\n",
       "<table border=\"1\" class=\"dataframe\">\n",
       "  <thead>\n",
       "    <tr style=\"text-align: right;\">\n",
       "      <th></th>\n",
       "      <th>Nome</th>\n",
       "      <th>Algoritmo</th>\n",
       "      <th>ROC_AUC Score</th>\n",
       "      <th>AUC Score</th>\n",
       "      <th>Acurácia</th>\n",
       "      <th>Verdadeiro Negativo</th>\n",
       "      <th>Falso Negativo</th>\n",
       "      <th>Verdadeiro Positivo</th>\n",
       "      <th>Falso Positivo</th>\n",
       "    </tr>\n",
       "  </thead>\n",
       "  <tbody>\n",
       "    <tr>\n",
       "      <th>0</th>\n",
       "      <td>model_v1</td>\n",
       "      <td>Regressão Logistica</td>\n",
       "      <td>0.745</td>\n",
       "      <td>0.820500</td>\n",
       "      <td>0.700000</td>\n",
       "      <td>64</td>\n",
       "      <td>6</td>\n",
       "      <td>34</td>\n",
       "      <td>36</td>\n",
       "    </tr>\n",
       "    <tr>\n",
       "      <th>1</th>\n",
       "      <td>model_v2</td>\n",
       "      <td>Random Forest</td>\n",
       "      <td>0.665</td>\n",
       "      <td>0.748875</td>\n",
       "      <td>0.714286</td>\n",
       "      <td>78</td>\n",
       "      <td>18</td>\n",
       "      <td>22</td>\n",
       "      <td>22</td>\n",
       "    </tr>\n",
       "  </tbody>\n",
       "</table>\n",
       "</div>"
      ],
      "text/plain": [
       "       Nome            Algoritmo  ROC_AUC Score  AUC Score  Acurácia  \\\n",
       "0  model_v1  Regressão Logistica          0.745   0.820500  0.700000   \n",
       "1  model_v2        Random Forest          0.665   0.748875  0.714286   \n",
       "\n",
       "   Verdadeiro Negativo  Falso Negativo  Verdadeiro Positivo  Falso Positivo  \n",
       "0                   64               6                   34              36  \n",
       "1                   78              18                   22              22  "
      ]
     },
     "execution_count": 57,
     "metadata": {},
     "output_type": "execute_result"
    }
   ],
   "source": [
    "# Adicionando Resultados\n",
    "dic_model_2 = {'Nome': 'model_v2', \n",
    "              'Algoritmo': 'Random Forest', \n",
    "              'ROC_AUC Score': roc_auc_v2, \n",
    "              'AUC Score': auc_v2, \n",
    "              'Acurácia': acc_v2, \n",
    "              'Verdadeiro Negativo': tn2, \n",
    "              'Falso Negativo': fn2,\n",
    "              'Verdadeiro Positivo': tp2,\n",
    "              'Falso Positivo': fp2\n",
    "             }\n",
    "df_models = df_models.append(dic_model_2, ignore_index= True)\n",
    "df_models"
   ]
  },
  {
   "cell_type": "markdown",
   "id": "be126244",
   "metadata": {},
   "source": [
    "### Terceiro Modelo: KNN"
   ]
  },
  {
   "cell_type": "code",
   "execution_count": 58,
   "id": "6c5add1c",
   "metadata": {},
   "outputs": [],
   "source": [
    "# Lista de Valores Possíveis para K\n",
    "neighborhood = list(range(1, 20, 1))"
   ]
  },
  {
   "cell_type": "code",
   "execution_count": 59,
   "id": "1d12f28b",
   "metadata": {},
   "outputs": [],
   "source": [
    "# Lista do score \n",
    "cv_scores = []"
   ]
  },
  {
   "cell_type": "code",
   "execution_count": 60,
   "id": "1ccf04e7",
   "metadata": {},
   "outputs": [],
   "source": [
    "# Validação cruzada para determinar o melhor valor de k\n",
    "\n",
    "for i in neighborhood:\n",
    "    knn = KNeighborsClassifier(n_neighbors= i)\n",
    "    scores = cross_val_score(knn, \n",
    "                             x_over_train, \n",
    "                             y_over_train, \n",
    "                             cv = 3, \n",
    "                             scoring= 'accuracy')\n",
    "    cv_scores.append(scores.mean())"
   ]
  },
  {
   "cell_type": "code",
   "execution_count": 61,
   "id": "a5264859",
   "metadata": {},
   "outputs": [],
   "source": [
    "# Ajustando o Erro da Classificação\n",
    "error = [1 - x for x in cv_scores]"
   ]
  },
  {
   "cell_type": "code",
   "execution_count": 62,
   "id": "74fbddcd",
   "metadata": {},
   "outputs": [
    {
     "data": {
      "text/plain": [
       "1"
      ]
     },
     "execution_count": 62,
     "metadata": {},
     "output_type": "execute_result"
    }
   ],
   "source": [
    "# Valor com Menor Erro\n",
    "neighborhood[error.index(min(error))]"
   ]
  },
  {
   "cell_type": "code",
   "execution_count": 63,
   "id": "a1210fb9",
   "metadata": {},
   "outputs": [
    {
     "data": {
      "text/html": [
       "<style>#sk-container-id-3 {color: black;background-color: white;}#sk-container-id-3 pre{padding: 0;}#sk-container-id-3 div.sk-toggleable {background-color: white;}#sk-container-id-3 label.sk-toggleable__label {cursor: pointer;display: block;width: 100%;margin-bottom: 0;padding: 0.3em;box-sizing: border-box;text-align: center;}#sk-container-id-3 label.sk-toggleable__label-arrow:before {content: \"▸\";float: left;margin-right: 0.25em;color: #696969;}#sk-container-id-3 label.sk-toggleable__label-arrow:hover:before {color: black;}#sk-container-id-3 div.sk-estimator:hover label.sk-toggleable__label-arrow:before {color: black;}#sk-container-id-3 div.sk-toggleable__content {max-height: 0;max-width: 0;overflow: hidden;text-align: left;background-color: #f0f8ff;}#sk-container-id-3 div.sk-toggleable__content pre {margin: 0.2em;color: black;border-radius: 0.25em;background-color: #f0f8ff;}#sk-container-id-3 input.sk-toggleable__control:checked~div.sk-toggleable__content {max-height: 200px;max-width: 100%;overflow: auto;}#sk-container-id-3 input.sk-toggleable__control:checked~label.sk-toggleable__label-arrow:before {content: \"▾\";}#sk-container-id-3 div.sk-estimator input.sk-toggleable__control:checked~label.sk-toggleable__label {background-color: #d4ebff;}#sk-container-id-3 div.sk-label input.sk-toggleable__control:checked~label.sk-toggleable__label {background-color: #d4ebff;}#sk-container-id-3 input.sk-hidden--visually {border: 0;clip: rect(1px 1px 1px 1px);clip: rect(1px, 1px, 1px, 1px);height: 1px;margin: -1px;overflow: hidden;padding: 0;position: absolute;width: 1px;}#sk-container-id-3 div.sk-estimator {font-family: monospace;background-color: #f0f8ff;border: 1px dotted black;border-radius: 0.25em;box-sizing: border-box;margin-bottom: 0.5em;}#sk-container-id-3 div.sk-estimator:hover {background-color: #d4ebff;}#sk-container-id-3 div.sk-parallel-item::after {content: \"\";width: 100%;border-bottom: 1px solid gray;flex-grow: 1;}#sk-container-id-3 div.sk-label:hover label.sk-toggleable__label {background-color: #d4ebff;}#sk-container-id-3 div.sk-serial::before {content: \"\";position: absolute;border-left: 1px solid gray;box-sizing: border-box;top: 0;bottom: 0;left: 50%;z-index: 0;}#sk-container-id-3 div.sk-serial {display: flex;flex-direction: column;align-items: center;background-color: white;padding-right: 0.2em;padding-left: 0.2em;position: relative;}#sk-container-id-3 div.sk-item {position: relative;z-index: 1;}#sk-container-id-3 div.sk-parallel {display: flex;align-items: stretch;justify-content: center;background-color: white;position: relative;}#sk-container-id-3 div.sk-item::before, #sk-container-id-3 div.sk-parallel-item::before {content: \"\";position: absolute;border-left: 1px solid gray;box-sizing: border-box;top: 0;bottom: 0;left: 50%;z-index: -1;}#sk-container-id-3 div.sk-parallel-item {display: flex;flex-direction: column;z-index: 1;position: relative;background-color: white;}#sk-container-id-3 div.sk-parallel-item:first-child::after {align-self: flex-end;width: 50%;}#sk-container-id-3 div.sk-parallel-item:last-child::after {align-self: flex-start;width: 50%;}#sk-container-id-3 div.sk-parallel-item:only-child::after {width: 0;}#sk-container-id-3 div.sk-dashed-wrapped {border: 1px dashed gray;margin: 0 0.4em 0.5em 0.4em;box-sizing: border-box;padding-bottom: 0.4em;background-color: white;}#sk-container-id-3 div.sk-label label {font-family: monospace;font-weight: bold;display: inline-block;line-height: 1.2em;}#sk-container-id-3 div.sk-label-container {text-align: center;}#sk-container-id-3 div.sk-container {/* jupyter's `normalize.less` sets `[hidden] { display: none; }` but bootstrap.min.css set `[hidden] { display: none !important; }` so we also need the `!important` here to be able to override the default hidden behavior on the sphinx rendered scikit-learn.org. See: https://github.com/scikit-learn/scikit-learn/issues/21755 */display: inline-block !important;position: relative;}#sk-container-id-3 div.sk-text-repr-fallback {display: none;}</style><div id=\"sk-container-id-3\" class=\"sk-top-container\"><div class=\"sk-text-repr-fallback\"><pre>KNeighborsClassifier(n_neighbors=1)</pre><b>In a Jupyter environment, please rerun this cell to show the HTML representation or trust the notebook. <br />On GitHub, the HTML representation is unable to render, please try loading this page with nbviewer.org.</b></div><div class=\"sk-container\" hidden><div class=\"sk-item\"><div class=\"sk-estimator sk-toggleable\"><input class=\"sk-toggleable__control sk-hidden--visually\" id=\"sk-estimator-id-7\" type=\"checkbox\" checked><label for=\"sk-estimator-id-7\" class=\"sk-toggleable__label sk-toggleable__label-arrow\">KNeighborsClassifier</label><div class=\"sk-toggleable__content\"><pre>KNeighborsClassifier(n_neighbors=1)</pre></div></div></div></div></div>"
      ],
      "text/plain": [
       "KNeighborsClassifier(n_neighbors=1)"
      ]
     },
     "execution_count": 63,
     "metadata": {},
     "output_type": "execute_result"
    }
   ],
   "source": [
    "# Treinamento do Modelo\n",
    "model_v3 = KNeighborsClassifier(n_neighbors= 1)\n",
    "model_v3.fit(x_over_train, y_over_train)"
   ]
  },
  {
   "cell_type": "code",
   "execution_count": 64,
   "id": "7f7b08fe",
   "metadata": {},
   "outputs": [],
   "source": [
    "# Previsão\n",
    "y_prev_v3 = model_v3.predict(x_test)"
   ]
  },
  {
   "cell_type": "code",
   "execution_count": 65,
   "id": "c6922e1d",
   "metadata": {},
   "outputs": [],
   "source": [
    "#Provabilidade da Previsão\n",
    "y_prev_prob_v3 = model_v3.predict_proba(x_test)[:,1]"
   ]
  },
  {
   "cell_type": "code",
   "execution_count": 66,
   "id": "be7ebc7c",
   "metadata": {},
   "outputs": [],
   "source": [
    "# Matriz de Confusão \n",
    "tn3, fp3, fn3, tp3 = confusion_matrix(y_test, y_prev_v3).ravel()"
   ]
  },
  {
   "cell_type": "code",
   "execution_count": 67,
   "id": "40de85e8",
   "metadata": {},
   "outputs": [
    {
     "data": {
      "text/plain": [
       "0.49749999999999994"
      ]
     },
     "execution_count": 67,
     "metadata": {},
     "output_type": "execute_result"
    }
   ],
   "source": [
    "# ROC score\n",
    "roc_auc_v3 = roc_auc_score(y_test, y_prev_v3)\n",
    "roc_auc_v3"
   ]
  },
  {
   "cell_type": "code",
   "execution_count": 68,
   "id": "59a9b690",
   "metadata": {},
   "outputs": [
    {
     "data": {
      "text/plain": [
       "0.49749999999999994"
      ]
     },
     "execution_count": 68,
     "metadata": {},
     "output_type": "execute_result"
    }
   ],
   "source": [
    "fpr_v3, tpr_v3, thresholds = roc_curve(y_test, y_prev_prob_v3)\n",
    "auc_v3 = auc(fpr_v3,tpr_v3)\n",
    "auc_v3"
   ]
  },
  {
   "cell_type": "code",
   "execution_count": 69,
   "id": "f0266d72",
   "metadata": {},
   "outputs": [
    {
     "data": {
      "text/plain": [
       "0.5928571428571429"
      ]
     },
     "execution_count": 69,
     "metadata": {},
     "output_type": "execute_result"
    }
   ],
   "source": [
    "# Acurácia \n",
    "acc_v3 = accuracy_score(y_test, y_prev_v3)\n",
    "acc_v3"
   ]
  },
  {
   "cell_type": "code",
   "execution_count": 70,
   "id": "e95addfc",
   "metadata": {},
   "outputs": [
    {
     "data": {
      "text/html": [
       "<div>\n",
       "<style scoped>\n",
       "    .dataframe tbody tr th:only-of-type {\n",
       "        vertical-align: middle;\n",
       "    }\n",
       "\n",
       "    .dataframe tbody tr th {\n",
       "        vertical-align: top;\n",
       "    }\n",
       "\n",
       "    .dataframe thead th {\n",
       "        text-align: right;\n",
       "    }\n",
       "</style>\n",
       "<table border=\"1\" class=\"dataframe\">\n",
       "  <thead>\n",
       "    <tr style=\"text-align: right;\">\n",
       "      <th></th>\n",
       "      <th>Nome</th>\n",
       "      <th>Algoritmo</th>\n",
       "      <th>ROC_AUC Score</th>\n",
       "      <th>AUC Score</th>\n",
       "      <th>Acurácia</th>\n",
       "      <th>Verdadeiro Negativo</th>\n",
       "      <th>Falso Negativo</th>\n",
       "      <th>Verdadeiro Positivo</th>\n",
       "      <th>Falso Positivo</th>\n",
       "    </tr>\n",
       "  </thead>\n",
       "  <tbody>\n",
       "    <tr>\n",
       "      <th>0</th>\n",
       "      <td>model_v1</td>\n",
       "      <td>Regressão Logistica</td>\n",
       "      <td>0.7450</td>\n",
       "      <td>0.820500</td>\n",
       "      <td>0.700000</td>\n",
       "      <td>64</td>\n",
       "      <td>6</td>\n",
       "      <td>34</td>\n",
       "      <td>36</td>\n",
       "    </tr>\n",
       "    <tr>\n",
       "      <th>1</th>\n",
       "      <td>model_v2</td>\n",
       "      <td>Random Forest</td>\n",
       "      <td>0.6650</td>\n",
       "      <td>0.748875</td>\n",
       "      <td>0.714286</td>\n",
       "      <td>78</td>\n",
       "      <td>18</td>\n",
       "      <td>22</td>\n",
       "      <td>22</td>\n",
       "    </tr>\n",
       "    <tr>\n",
       "      <th>2</th>\n",
       "      <td>model_v3</td>\n",
       "      <td>KNN</td>\n",
       "      <td>0.4975</td>\n",
       "      <td>0.497500</td>\n",
       "      <td>0.592857</td>\n",
       "      <td>72</td>\n",
       "      <td>29</td>\n",
       "      <td>11</td>\n",
       "      <td>28</td>\n",
       "    </tr>\n",
       "  </tbody>\n",
       "</table>\n",
       "</div>"
      ],
      "text/plain": [
       "       Nome            Algoritmo  ROC_AUC Score  AUC Score  Acurácia  \\\n",
       "0  model_v1  Regressão Logistica         0.7450   0.820500  0.700000   \n",
       "1  model_v2        Random Forest         0.6650   0.748875  0.714286   \n",
       "2  model_v3                  KNN         0.4975   0.497500  0.592857   \n",
       "\n",
       "   Verdadeiro Negativo  Falso Negativo  Verdadeiro Positivo  Falso Positivo  \n",
       "0                   64               6                   34              36  \n",
       "1                   78              18                   22              22  \n",
       "2                   72              29                   11              28  "
      ]
     },
     "execution_count": 70,
     "metadata": {},
     "output_type": "execute_result"
    }
   ],
   "source": [
    "# Adicionando Resultados\n",
    "dic_model_3 = {'Nome': 'model_v3', \n",
    "              'Algoritmo': 'KNN', \n",
    "              'ROC_AUC Score': roc_auc_v3, \n",
    "              'AUC Score': auc_v3, \n",
    "              'Acurácia': acc_v3, \n",
    "              'Verdadeiro Negativo': tn3, \n",
    "              'Falso Negativo': fn3,\n",
    "              'Verdadeiro Positivo': tp3,\n",
    "              'Falso Positivo': fp3\n",
    "             }\n",
    "df_models = df_models.append(dic_model_3, ignore_index= True)\n",
    "df_models"
   ]
  },
  {
   "cell_type": "markdown",
   "id": "44fa6507",
   "metadata": {},
   "source": [
    "### Quarto Modelo: Decision Tree"
   ]
  },
  {
   "cell_type": "code",
   "execution_count": 71,
   "id": "17677dd8",
   "metadata": {},
   "outputs": [],
   "source": [
    "#Dicionário de Hiperparâmetros\n",
    "params_v4 = {'min_samples_split': [1, 2, 3, 4, 5, 6, 7], \n",
    "             'min_samples_leaf': [1, 2, 3, 4, 5, 6, 7], \n",
    "             'max_depth': [1, 2, 3, 4, 5, 6, 7]}"
   ]
  },
  {
   "cell_type": "code",
   "execution_count": 72,
   "id": "0b5bb4d7",
   "metadata": {},
   "outputs": [],
   "source": [
    "# Criando o Modelo \n",
    "model_v4 = RandomizedSearchCV(DecisionTreeClassifier(),\n",
    "                              params_v4, \n",
    "                              n_iter = 15, \n",
    "                              scoring = 'roc_auc', \n",
    "                              n_jobs = -1)"
   ]
  },
  {
   "cell_type": "code",
   "execution_count": 73,
   "id": "db106915",
   "metadata": {},
   "outputs": [
    {
     "data": {
      "text/html": [
       "<style>#sk-container-id-4 {color: black;background-color: white;}#sk-container-id-4 pre{padding: 0;}#sk-container-id-4 div.sk-toggleable {background-color: white;}#sk-container-id-4 label.sk-toggleable__label {cursor: pointer;display: block;width: 100%;margin-bottom: 0;padding: 0.3em;box-sizing: border-box;text-align: center;}#sk-container-id-4 label.sk-toggleable__label-arrow:before {content: \"▸\";float: left;margin-right: 0.25em;color: #696969;}#sk-container-id-4 label.sk-toggleable__label-arrow:hover:before {color: black;}#sk-container-id-4 div.sk-estimator:hover label.sk-toggleable__label-arrow:before {color: black;}#sk-container-id-4 div.sk-toggleable__content {max-height: 0;max-width: 0;overflow: hidden;text-align: left;background-color: #f0f8ff;}#sk-container-id-4 div.sk-toggleable__content pre {margin: 0.2em;color: black;border-radius: 0.25em;background-color: #f0f8ff;}#sk-container-id-4 input.sk-toggleable__control:checked~div.sk-toggleable__content {max-height: 200px;max-width: 100%;overflow: auto;}#sk-container-id-4 input.sk-toggleable__control:checked~label.sk-toggleable__label-arrow:before {content: \"▾\";}#sk-container-id-4 div.sk-estimator input.sk-toggleable__control:checked~label.sk-toggleable__label {background-color: #d4ebff;}#sk-container-id-4 div.sk-label input.sk-toggleable__control:checked~label.sk-toggleable__label {background-color: #d4ebff;}#sk-container-id-4 input.sk-hidden--visually {border: 0;clip: rect(1px 1px 1px 1px);clip: rect(1px, 1px, 1px, 1px);height: 1px;margin: -1px;overflow: hidden;padding: 0;position: absolute;width: 1px;}#sk-container-id-4 div.sk-estimator {font-family: monospace;background-color: #f0f8ff;border: 1px dotted black;border-radius: 0.25em;box-sizing: border-box;margin-bottom: 0.5em;}#sk-container-id-4 div.sk-estimator:hover {background-color: #d4ebff;}#sk-container-id-4 div.sk-parallel-item::after {content: \"\";width: 100%;border-bottom: 1px solid gray;flex-grow: 1;}#sk-container-id-4 div.sk-label:hover label.sk-toggleable__label {background-color: #d4ebff;}#sk-container-id-4 div.sk-serial::before {content: \"\";position: absolute;border-left: 1px solid gray;box-sizing: border-box;top: 0;bottom: 0;left: 50%;z-index: 0;}#sk-container-id-4 div.sk-serial {display: flex;flex-direction: column;align-items: center;background-color: white;padding-right: 0.2em;padding-left: 0.2em;position: relative;}#sk-container-id-4 div.sk-item {position: relative;z-index: 1;}#sk-container-id-4 div.sk-parallel {display: flex;align-items: stretch;justify-content: center;background-color: white;position: relative;}#sk-container-id-4 div.sk-item::before, #sk-container-id-4 div.sk-parallel-item::before {content: \"\";position: absolute;border-left: 1px solid gray;box-sizing: border-box;top: 0;bottom: 0;left: 50%;z-index: -1;}#sk-container-id-4 div.sk-parallel-item {display: flex;flex-direction: column;z-index: 1;position: relative;background-color: white;}#sk-container-id-4 div.sk-parallel-item:first-child::after {align-self: flex-end;width: 50%;}#sk-container-id-4 div.sk-parallel-item:last-child::after {align-self: flex-start;width: 50%;}#sk-container-id-4 div.sk-parallel-item:only-child::after {width: 0;}#sk-container-id-4 div.sk-dashed-wrapped {border: 1px dashed gray;margin: 0 0.4em 0.5em 0.4em;box-sizing: border-box;padding-bottom: 0.4em;background-color: white;}#sk-container-id-4 div.sk-label label {font-family: monospace;font-weight: bold;display: inline-block;line-height: 1.2em;}#sk-container-id-4 div.sk-label-container {text-align: center;}#sk-container-id-4 div.sk-container {/* jupyter's `normalize.less` sets `[hidden] { display: none; }` but bootstrap.min.css set `[hidden] { display: none !important; }` so we also need the `!important` here to be able to override the default hidden behavior on the sphinx rendered scikit-learn.org. See: https://github.com/scikit-learn/scikit-learn/issues/21755 */display: inline-block !important;position: relative;}#sk-container-id-4 div.sk-text-repr-fallback {display: none;}</style><div id=\"sk-container-id-4\" class=\"sk-top-container\"><div class=\"sk-text-repr-fallback\"><pre>RandomizedSearchCV(estimator=DecisionTreeClassifier(), n_iter=15, n_jobs=-1,\n",
       "                   param_distributions={&#x27;max_depth&#x27;: [1, 2, 3, 4, 5, 6, 7],\n",
       "                                        &#x27;min_samples_leaf&#x27;: [1, 2, 3, 4, 5, 6,\n",
       "                                                             7],\n",
       "                                        &#x27;min_samples_split&#x27;: [1, 2, 3, 4, 5, 6,\n",
       "                                                              7]},\n",
       "                   scoring=&#x27;roc_auc&#x27;)</pre><b>In a Jupyter environment, please rerun this cell to show the HTML representation or trust the notebook. <br />On GitHub, the HTML representation is unable to render, please try loading this page with nbviewer.org.</b></div><div class=\"sk-container\" hidden><div class=\"sk-item sk-dashed-wrapped\"><div class=\"sk-label-container\"><div class=\"sk-label sk-toggleable\"><input class=\"sk-toggleable__control sk-hidden--visually\" id=\"sk-estimator-id-8\" type=\"checkbox\" ><label for=\"sk-estimator-id-8\" class=\"sk-toggleable__label sk-toggleable__label-arrow\">RandomizedSearchCV</label><div class=\"sk-toggleable__content\"><pre>RandomizedSearchCV(estimator=DecisionTreeClassifier(), n_iter=15, n_jobs=-1,\n",
       "                   param_distributions={&#x27;max_depth&#x27;: [1, 2, 3, 4, 5, 6, 7],\n",
       "                                        &#x27;min_samples_leaf&#x27;: [1, 2, 3, 4, 5, 6,\n",
       "                                                             7],\n",
       "                                        &#x27;min_samples_split&#x27;: [1, 2, 3, 4, 5, 6,\n",
       "                                                              7]},\n",
       "                   scoring=&#x27;roc_auc&#x27;)</pre></div></div></div><div class=\"sk-parallel\"><div class=\"sk-parallel-item\"><div class=\"sk-item\"><div class=\"sk-label-container\"><div class=\"sk-label sk-toggleable\"><input class=\"sk-toggleable__control sk-hidden--visually\" id=\"sk-estimator-id-9\" type=\"checkbox\" ><label for=\"sk-estimator-id-9\" class=\"sk-toggleable__label sk-toggleable__label-arrow\">estimator: DecisionTreeClassifier</label><div class=\"sk-toggleable__content\"><pre>DecisionTreeClassifier()</pre></div></div></div><div class=\"sk-serial\"><div class=\"sk-item\"><div class=\"sk-estimator sk-toggleable\"><input class=\"sk-toggleable__control sk-hidden--visually\" id=\"sk-estimator-id-10\" type=\"checkbox\" ><label for=\"sk-estimator-id-10\" class=\"sk-toggleable__label sk-toggleable__label-arrow\">DecisionTreeClassifier</label><div class=\"sk-toggleable__content\"><pre>DecisionTreeClassifier()</pre></div></div></div></div></div></div></div></div></div></div>"
      ],
      "text/plain": [
       "RandomizedSearchCV(estimator=DecisionTreeClassifier(), n_iter=15, n_jobs=-1,\n",
       "                   param_distributions={'max_depth': [1, 2, 3, 4, 5, 6, 7],\n",
       "                                        'min_samples_leaf': [1, 2, 3, 4, 5, 6,\n",
       "                                                             7],\n",
       "                                        'min_samples_split': [1, 2, 3, 4, 5, 6,\n",
       "                                                              7]},\n",
       "                   scoring='roc_auc')"
      ]
     },
     "execution_count": 73,
     "metadata": {},
     "output_type": "execute_result"
    }
   ],
   "source": [
    "# Treinando o Modelo\n",
    "model_v4.fit(x_over_train, y_over_train)"
   ]
  },
  {
   "cell_type": "code",
   "execution_count": 74,
   "id": "d36b268b",
   "metadata": {},
   "outputs": [
    {
     "data": {
      "text/plain": [
       "{'min_samples_split': 3, 'min_samples_leaf': 5, 'max_depth': 7}"
      ]
     },
     "execution_count": 74,
     "metadata": {},
     "output_type": "execute_result"
    }
   ],
   "source": [
    "# Melhores Parâmetros\n",
    "model_v4.best_params_"
   ]
  },
  {
   "cell_type": "code",
   "execution_count": 75,
   "id": "90630190",
   "metadata": {},
   "outputs": [],
   "source": [
    "#Previsão\n",
    "y_prev_v4 = model_v4.predict(x_test)"
   ]
  },
  {
   "cell_type": "code",
   "execution_count": 76,
   "id": "ad321515",
   "metadata": {},
   "outputs": [],
   "source": [
    "#Provabilidade da Previsão\n",
    "y_prev_prob_v4 = model_v4.predict_proba(x_test)[:,1]"
   ]
  },
  {
   "cell_type": "code",
   "execution_count": 77,
   "id": "0a6424f1",
   "metadata": {},
   "outputs": [],
   "source": [
    "# Matriz de Confusão \n",
    "tn4, fp4, fn4, tp4 = confusion_matrix(y_test, y_prev_v4).ravel()"
   ]
  },
  {
   "cell_type": "code",
   "execution_count": 78,
   "id": "32e756ac",
   "metadata": {},
   "outputs": [
    {
     "data": {
      "text/plain": [
       "0.6525"
      ]
     },
     "execution_count": 78,
     "metadata": {},
     "output_type": "execute_result"
    }
   ],
   "source": [
    "# ROC score\n",
    "roc_auc_v4 = roc_auc_score(y_test, y_prev_v4)\n",
    "roc_auc_v4\n"
   ]
  },
  {
   "cell_type": "code",
   "execution_count": 79,
   "id": "6e87cd52",
   "metadata": {},
   "outputs": [
    {
     "data": {
      "text/plain": [
       "0.680125"
      ]
     },
     "execution_count": 79,
     "metadata": {},
     "output_type": "execute_result"
    }
   ],
   "source": [
    "fpr_v4, tpr_v4, thresholds = roc_curve(y_test, y_prev_prob_v4)\n",
    "auc_v4 = auc(fpr_v4,tpr_v4)\n",
    "auc_v4"
   ]
  },
  {
   "cell_type": "code",
   "execution_count": 80,
   "id": "548006ec",
   "metadata": {},
   "outputs": [
    {
     "data": {
      "text/plain": [
       "0.6428571428571429"
      ]
     },
     "execution_count": 80,
     "metadata": {},
     "output_type": "execute_result"
    }
   ],
   "source": [
    "# Acurácia \n",
    "acc_v4 = accuracy_score(y_test, y_prev_v4)\n",
    "acc_v4"
   ]
  },
  {
   "cell_type": "code",
   "execution_count": 81,
   "id": "5ed8ccd7",
   "metadata": {},
   "outputs": [
    {
     "data": {
      "text/html": [
       "<div>\n",
       "<style scoped>\n",
       "    .dataframe tbody tr th:only-of-type {\n",
       "        vertical-align: middle;\n",
       "    }\n",
       "\n",
       "    .dataframe tbody tr th {\n",
       "        vertical-align: top;\n",
       "    }\n",
       "\n",
       "    .dataframe thead th {\n",
       "        text-align: right;\n",
       "    }\n",
       "</style>\n",
       "<table border=\"1\" class=\"dataframe\">\n",
       "  <thead>\n",
       "    <tr style=\"text-align: right;\">\n",
       "      <th></th>\n",
       "      <th>Nome</th>\n",
       "      <th>Algoritmo</th>\n",
       "      <th>ROC_AUC Score</th>\n",
       "      <th>AUC Score</th>\n",
       "      <th>Acurácia</th>\n",
       "      <th>Verdadeiro Negativo</th>\n",
       "      <th>Falso Negativo</th>\n",
       "      <th>Verdadeiro Positivo</th>\n",
       "      <th>Falso Positivo</th>\n",
       "    </tr>\n",
       "  </thead>\n",
       "  <tbody>\n",
       "    <tr>\n",
       "      <th>0</th>\n",
       "      <td>model_v1</td>\n",
       "      <td>Regressão Logistica</td>\n",
       "      <td>0.7450</td>\n",
       "      <td>0.820500</td>\n",
       "      <td>0.700000</td>\n",
       "      <td>64</td>\n",
       "      <td>6</td>\n",
       "      <td>34</td>\n",
       "      <td>36</td>\n",
       "    </tr>\n",
       "    <tr>\n",
       "      <th>1</th>\n",
       "      <td>model_v2</td>\n",
       "      <td>Random Forest</td>\n",
       "      <td>0.6650</td>\n",
       "      <td>0.748875</td>\n",
       "      <td>0.714286</td>\n",
       "      <td>78</td>\n",
       "      <td>18</td>\n",
       "      <td>22</td>\n",
       "      <td>22</td>\n",
       "    </tr>\n",
       "    <tr>\n",
       "      <th>2</th>\n",
       "      <td>model_v3</td>\n",
       "      <td>KNN</td>\n",
       "      <td>0.4975</td>\n",
       "      <td>0.497500</td>\n",
       "      <td>0.592857</td>\n",
       "      <td>72</td>\n",
       "      <td>29</td>\n",
       "      <td>11</td>\n",
       "      <td>28</td>\n",
       "    </tr>\n",
       "    <tr>\n",
       "      <th>3</th>\n",
       "      <td>model_v4</td>\n",
       "      <td>Decision Tree</td>\n",
       "      <td>0.6525</td>\n",
       "      <td>0.680125</td>\n",
       "      <td>0.642857</td>\n",
       "      <td>63</td>\n",
       "      <td>13</td>\n",
       "      <td>27</td>\n",
       "      <td>37</td>\n",
       "    </tr>\n",
       "  </tbody>\n",
       "</table>\n",
       "</div>"
      ],
      "text/plain": [
       "       Nome            Algoritmo  ROC_AUC Score  AUC Score  Acurácia  \\\n",
       "0  model_v1  Regressão Logistica         0.7450   0.820500  0.700000   \n",
       "1  model_v2        Random Forest         0.6650   0.748875  0.714286   \n",
       "2  model_v3                  KNN         0.4975   0.497500  0.592857   \n",
       "3  model_v4        Decision Tree         0.6525   0.680125  0.642857   \n",
       "\n",
       "   Verdadeiro Negativo  Falso Negativo  Verdadeiro Positivo  Falso Positivo  \n",
       "0                   64               6                   34              36  \n",
       "1                   78              18                   22              22  \n",
       "2                   72              29                   11              28  \n",
       "3                   63              13                   27              37  "
      ]
     },
     "execution_count": 81,
     "metadata": {},
     "output_type": "execute_result"
    }
   ],
   "source": [
    "# Adicionando Resultados\n",
    "dic_model_4 = {'Nome': 'model_v4', \n",
    "              'Algoritmo': 'Decision Tree', \n",
    "              'ROC_AUC Score': roc_auc_v4, \n",
    "              'AUC Score': auc_v4, \n",
    "              'Acurácia': acc_v4, \n",
    "              'Verdadeiro Negativo': tn4, \n",
    "              'Falso Negativo': fn4,\n",
    "              'Verdadeiro Positivo': tp4,\n",
    "              'Falso Positivo': fp4\n",
    "             }\n",
    "df_models = df_models.append(dic_model_4, ignore_index= True)\n",
    "df_models"
   ]
  },
  {
   "cell_type": "markdown",
   "id": "b6d28334",
   "metadata": {},
   "source": [
    "### Quinto Modelo: Support Vector Machine "
   ]
  },
  {
   "cell_type": "code",
   "execution_count": 82,
   "id": "1ff2d140",
   "metadata": {},
   "outputs": [],
   "source": [
    "#Dicionário de Hiperparâmetros\n",
    "params_v5 = {'C': [0.001, 0.01, 0.1, 1, 10], \n",
    "             'gamma': [0.001, 0.01, 0.1, 1], \n",
    "            }"
   ]
  },
  {
   "cell_type": "code",
   "execution_count": 83,
   "id": "9d3173b6",
   "metadata": {},
   "outputs": [],
   "source": [
    "# Criando o Modelo \n",
    "model_v5 = GridSearchCV(SVC(kernel= 'rbf', probability= True), \n",
    "                        params_v5, \n",
    "                        cv = 5)"
   ]
  },
  {
   "cell_type": "code",
   "execution_count": 84,
   "id": "31b6f880",
   "metadata": {},
   "outputs": [
    {
     "data": {
      "text/html": [
       "<style>#sk-container-id-5 {color: black;background-color: white;}#sk-container-id-5 pre{padding: 0;}#sk-container-id-5 div.sk-toggleable {background-color: white;}#sk-container-id-5 label.sk-toggleable__label {cursor: pointer;display: block;width: 100%;margin-bottom: 0;padding: 0.3em;box-sizing: border-box;text-align: center;}#sk-container-id-5 label.sk-toggleable__label-arrow:before {content: \"▸\";float: left;margin-right: 0.25em;color: #696969;}#sk-container-id-5 label.sk-toggleable__label-arrow:hover:before {color: black;}#sk-container-id-5 div.sk-estimator:hover label.sk-toggleable__label-arrow:before {color: black;}#sk-container-id-5 div.sk-toggleable__content {max-height: 0;max-width: 0;overflow: hidden;text-align: left;background-color: #f0f8ff;}#sk-container-id-5 div.sk-toggleable__content pre {margin: 0.2em;color: black;border-radius: 0.25em;background-color: #f0f8ff;}#sk-container-id-5 input.sk-toggleable__control:checked~div.sk-toggleable__content {max-height: 200px;max-width: 100%;overflow: auto;}#sk-container-id-5 input.sk-toggleable__control:checked~label.sk-toggleable__label-arrow:before {content: \"▾\";}#sk-container-id-5 div.sk-estimator input.sk-toggleable__control:checked~label.sk-toggleable__label {background-color: #d4ebff;}#sk-container-id-5 div.sk-label input.sk-toggleable__control:checked~label.sk-toggleable__label {background-color: #d4ebff;}#sk-container-id-5 input.sk-hidden--visually {border: 0;clip: rect(1px 1px 1px 1px);clip: rect(1px, 1px, 1px, 1px);height: 1px;margin: -1px;overflow: hidden;padding: 0;position: absolute;width: 1px;}#sk-container-id-5 div.sk-estimator {font-family: monospace;background-color: #f0f8ff;border: 1px dotted black;border-radius: 0.25em;box-sizing: border-box;margin-bottom: 0.5em;}#sk-container-id-5 div.sk-estimator:hover {background-color: #d4ebff;}#sk-container-id-5 div.sk-parallel-item::after {content: \"\";width: 100%;border-bottom: 1px solid gray;flex-grow: 1;}#sk-container-id-5 div.sk-label:hover label.sk-toggleable__label {background-color: #d4ebff;}#sk-container-id-5 div.sk-serial::before {content: \"\";position: absolute;border-left: 1px solid gray;box-sizing: border-box;top: 0;bottom: 0;left: 50%;z-index: 0;}#sk-container-id-5 div.sk-serial {display: flex;flex-direction: column;align-items: center;background-color: white;padding-right: 0.2em;padding-left: 0.2em;position: relative;}#sk-container-id-5 div.sk-item {position: relative;z-index: 1;}#sk-container-id-5 div.sk-parallel {display: flex;align-items: stretch;justify-content: center;background-color: white;position: relative;}#sk-container-id-5 div.sk-item::before, #sk-container-id-5 div.sk-parallel-item::before {content: \"\";position: absolute;border-left: 1px solid gray;box-sizing: border-box;top: 0;bottom: 0;left: 50%;z-index: -1;}#sk-container-id-5 div.sk-parallel-item {display: flex;flex-direction: column;z-index: 1;position: relative;background-color: white;}#sk-container-id-5 div.sk-parallel-item:first-child::after {align-self: flex-end;width: 50%;}#sk-container-id-5 div.sk-parallel-item:last-child::after {align-self: flex-start;width: 50%;}#sk-container-id-5 div.sk-parallel-item:only-child::after {width: 0;}#sk-container-id-5 div.sk-dashed-wrapped {border: 1px dashed gray;margin: 0 0.4em 0.5em 0.4em;box-sizing: border-box;padding-bottom: 0.4em;background-color: white;}#sk-container-id-5 div.sk-label label {font-family: monospace;font-weight: bold;display: inline-block;line-height: 1.2em;}#sk-container-id-5 div.sk-label-container {text-align: center;}#sk-container-id-5 div.sk-container {/* jupyter's `normalize.less` sets `[hidden] { display: none; }` but bootstrap.min.css set `[hidden] { display: none !important; }` so we also need the `!important` here to be able to override the default hidden behavior on the sphinx rendered scikit-learn.org. See: https://github.com/scikit-learn/scikit-learn/issues/21755 */display: inline-block !important;position: relative;}#sk-container-id-5 div.sk-text-repr-fallback {display: none;}</style><div id=\"sk-container-id-5\" class=\"sk-top-container\"><div class=\"sk-text-repr-fallback\"><pre>GridSearchCV(cv=5, estimator=SVC(probability=True),\n",
       "             param_grid={&#x27;C&#x27;: [0.001, 0.01, 0.1, 1, 10],\n",
       "                         &#x27;gamma&#x27;: [0.001, 0.01, 0.1, 1]})</pre><b>In a Jupyter environment, please rerun this cell to show the HTML representation or trust the notebook. <br />On GitHub, the HTML representation is unable to render, please try loading this page with nbviewer.org.</b></div><div class=\"sk-container\" hidden><div class=\"sk-item sk-dashed-wrapped\"><div class=\"sk-label-container\"><div class=\"sk-label sk-toggleable\"><input class=\"sk-toggleable__control sk-hidden--visually\" id=\"sk-estimator-id-11\" type=\"checkbox\" ><label for=\"sk-estimator-id-11\" class=\"sk-toggleable__label sk-toggleable__label-arrow\">GridSearchCV</label><div class=\"sk-toggleable__content\"><pre>GridSearchCV(cv=5, estimator=SVC(probability=True),\n",
       "             param_grid={&#x27;C&#x27;: [0.001, 0.01, 0.1, 1, 10],\n",
       "                         &#x27;gamma&#x27;: [0.001, 0.01, 0.1, 1]})</pre></div></div></div><div class=\"sk-parallel\"><div class=\"sk-parallel-item\"><div class=\"sk-item\"><div class=\"sk-label-container\"><div class=\"sk-label sk-toggleable\"><input class=\"sk-toggleable__control sk-hidden--visually\" id=\"sk-estimator-id-12\" type=\"checkbox\" ><label for=\"sk-estimator-id-12\" class=\"sk-toggleable__label sk-toggleable__label-arrow\">estimator: SVC</label><div class=\"sk-toggleable__content\"><pre>SVC(probability=True)</pre></div></div></div><div class=\"sk-serial\"><div class=\"sk-item\"><div class=\"sk-estimator sk-toggleable\"><input class=\"sk-toggleable__control sk-hidden--visually\" id=\"sk-estimator-id-13\" type=\"checkbox\" ><label for=\"sk-estimator-id-13\" class=\"sk-toggleable__label sk-toggleable__label-arrow\">SVC</label><div class=\"sk-toggleable__content\"><pre>SVC(probability=True)</pre></div></div></div></div></div></div></div></div></div></div>"
      ],
      "text/plain": [
       "GridSearchCV(cv=5, estimator=SVC(probability=True),\n",
       "             param_grid={'C': [0.001, 0.01, 0.1, 1, 10],\n",
       "                         'gamma': [0.001, 0.01, 0.1, 1]})"
      ]
     },
     "execution_count": 84,
     "metadata": {},
     "output_type": "execute_result"
    }
   ],
   "source": [
    "# Treinando o Modelo\n",
    "model_v5.fit(x_over_train, y_over_train)"
   ]
  },
  {
   "cell_type": "code",
   "execution_count": 85,
   "id": "99dceff7",
   "metadata": {},
   "outputs": [
    {
     "data": {
      "text/plain": [
       "{'C': 10, 'gamma': 1}"
      ]
     },
     "execution_count": 85,
     "metadata": {},
     "output_type": "execute_result"
    }
   ],
   "source": [
    "# Melhores Parâmetros\n",
    "model_v5.best_params_"
   ]
  },
  {
   "cell_type": "code",
   "execution_count": 86,
   "id": "920bc1d7",
   "metadata": {},
   "outputs": [],
   "source": [
    "# Previsão\n",
    "y_prev_v5 = model_v5.predict(x_test)"
   ]
  },
  {
   "cell_type": "code",
   "execution_count": 87,
   "id": "64393668",
   "metadata": {},
   "outputs": [],
   "source": [
    "#Provabilidade da Previsão\n",
    "y_prev_prob_v5 = model_v5.predict_proba(x_test)[:,1]"
   ]
  },
  {
   "cell_type": "code",
   "execution_count": 88,
   "id": "ce370765",
   "metadata": {},
   "outputs": [],
   "source": [
    "# Matriz de Confusão \n",
    "tn5, fp5, fn5, tp5 = confusion_matrix(y_test, y_prev_v5).ravel()"
   ]
  },
  {
   "cell_type": "code",
   "execution_count": 89,
   "id": "6cbaa976",
   "metadata": {},
   "outputs": [
    {
     "data": {
      "text/plain": [
       "0.54"
      ]
     },
     "execution_count": 89,
     "metadata": {},
     "output_type": "execute_result"
    }
   ],
   "source": [
    "# ROC score\n",
    "roc_auc_v5 = roc_auc_score(y_test, y_prev_v5)\n",
    "roc_auc_v5"
   ]
  },
  {
   "cell_type": "code",
   "execution_count": 90,
   "id": "7b87e0c0",
   "metadata": {},
   "outputs": [
    {
     "data": {
      "text/plain": [
       "0.5487500000000001"
      ]
     },
     "execution_count": 90,
     "metadata": {},
     "output_type": "execute_result"
    }
   ],
   "source": [
    "fpr_v5, tpr_v5, thresholds = roc_curve(y_test, y_prev_prob_v5)\n",
    "auc_v5 = auc(fpr_v5,tpr_v5)\n",
    "auc_v5"
   ]
  },
  {
   "cell_type": "code",
   "execution_count": 91,
   "id": "625369cc",
   "metadata": {},
   "outputs": [
    {
     "data": {
      "text/plain": [
       "0.6428571428571429"
      ]
     },
     "execution_count": 91,
     "metadata": {},
     "output_type": "execute_result"
    }
   ],
   "source": [
    "# Acurácia \n",
    "acc_v5 = accuracy_score(y_test, y_prev_v5)\n",
    "acc_v5"
   ]
  },
  {
   "cell_type": "code",
   "execution_count": 92,
   "id": "a62e9a1e",
   "metadata": {},
   "outputs": [
    {
     "data": {
      "text/html": [
       "<div>\n",
       "<style scoped>\n",
       "    .dataframe tbody tr th:only-of-type {\n",
       "        vertical-align: middle;\n",
       "    }\n",
       "\n",
       "    .dataframe tbody tr th {\n",
       "        vertical-align: top;\n",
       "    }\n",
       "\n",
       "    .dataframe thead th {\n",
       "        text-align: right;\n",
       "    }\n",
       "</style>\n",
       "<table border=\"1\" class=\"dataframe\">\n",
       "  <thead>\n",
       "    <tr style=\"text-align: right;\">\n",
       "      <th></th>\n",
       "      <th>Nome</th>\n",
       "      <th>Algoritmo</th>\n",
       "      <th>ROC_AUC Score</th>\n",
       "      <th>AUC Score</th>\n",
       "      <th>Acurácia</th>\n",
       "      <th>Verdadeiro Negativo</th>\n",
       "      <th>Falso Negativo</th>\n",
       "      <th>Verdadeiro Positivo</th>\n",
       "      <th>Falso Positivo</th>\n",
       "    </tr>\n",
       "  </thead>\n",
       "  <tbody>\n",
       "    <tr>\n",
       "      <th>0</th>\n",
       "      <td>model_v1</td>\n",
       "      <td>Regressão Logistica</td>\n",
       "      <td>0.7450</td>\n",
       "      <td>0.820500</td>\n",
       "      <td>0.700000</td>\n",
       "      <td>64</td>\n",
       "      <td>6</td>\n",
       "      <td>34</td>\n",
       "      <td>36</td>\n",
       "    </tr>\n",
       "    <tr>\n",
       "      <th>1</th>\n",
       "      <td>model_v2</td>\n",
       "      <td>Random Forest</td>\n",
       "      <td>0.6650</td>\n",
       "      <td>0.748875</td>\n",
       "      <td>0.714286</td>\n",
       "      <td>78</td>\n",
       "      <td>18</td>\n",
       "      <td>22</td>\n",
       "      <td>22</td>\n",
       "    </tr>\n",
       "    <tr>\n",
       "      <th>2</th>\n",
       "      <td>model_v3</td>\n",
       "      <td>KNN</td>\n",
       "      <td>0.4975</td>\n",
       "      <td>0.497500</td>\n",
       "      <td>0.592857</td>\n",
       "      <td>72</td>\n",
       "      <td>29</td>\n",
       "      <td>11</td>\n",
       "      <td>28</td>\n",
       "    </tr>\n",
       "    <tr>\n",
       "      <th>3</th>\n",
       "      <td>model_v4</td>\n",
       "      <td>Decision Tree</td>\n",
       "      <td>0.6525</td>\n",
       "      <td>0.680125</td>\n",
       "      <td>0.642857</td>\n",
       "      <td>63</td>\n",
       "      <td>13</td>\n",
       "      <td>27</td>\n",
       "      <td>37</td>\n",
       "    </tr>\n",
       "    <tr>\n",
       "      <th>4</th>\n",
       "      <td>model_v5</td>\n",
       "      <td>Suport Vector Machine</td>\n",
       "      <td>0.5400</td>\n",
       "      <td>0.548750</td>\n",
       "      <td>0.642857</td>\n",
       "      <td>78</td>\n",
       "      <td>28</td>\n",
       "      <td>12</td>\n",
       "      <td>22</td>\n",
       "    </tr>\n",
       "  </tbody>\n",
       "</table>\n",
       "</div>"
      ],
      "text/plain": [
       "       Nome              Algoritmo  ROC_AUC Score  AUC Score  Acurácia  \\\n",
       "0  model_v1    Regressão Logistica         0.7450   0.820500  0.700000   \n",
       "1  model_v2          Random Forest         0.6650   0.748875  0.714286   \n",
       "2  model_v3                    KNN         0.4975   0.497500  0.592857   \n",
       "3  model_v4          Decision Tree         0.6525   0.680125  0.642857   \n",
       "4  model_v5  Suport Vector Machine         0.5400   0.548750  0.642857   \n",
       "\n",
       "   Verdadeiro Negativo  Falso Negativo  Verdadeiro Positivo  Falso Positivo  \n",
       "0                   64               6                   34              36  \n",
       "1                   78              18                   22              22  \n",
       "2                   72              29                   11              28  \n",
       "3                   63              13                   27              37  \n",
       "4                   78              28                   12              22  "
      ]
     },
     "execution_count": 92,
     "metadata": {},
     "output_type": "execute_result"
    }
   ],
   "source": [
    "# Adicionando Resultados\n",
    "dic_model_5 = {'Nome': 'model_v5', \n",
    "              'Algoritmo': 'Suport Vector Machine', \n",
    "              'ROC_AUC Score': roc_auc_v5, \n",
    "              'AUC Score': auc_v5, \n",
    "              'Acurácia': acc_v5, \n",
    "              'Verdadeiro Negativo': tn5, \n",
    "              'Falso Negativo': fn5,\n",
    "              'Verdadeiro Positivo': tp5,\n",
    "              'Falso Positivo': fp5\n",
    "             }\n",
    "df_models = df_models.append(dic_model_5, ignore_index= True)\n",
    "df_models"
   ]
  },
  {
   "cell_type": "markdown",
   "id": "10ef63ca",
   "metadata": {},
   "source": [
    "### Sexto Modelo: Gradient Boosting Regressor"
   ]
  },
  {
   "cell_type": "code",
   "execution_count": 93,
   "id": "a0e4ad7c",
   "metadata": {},
   "outputs": [],
   "source": [
    "#Dicionário de Hiperparâmetros\n",
    "params_v6 = {'learning_rate': [0.01,0.02,0.03,0.04],\n",
    "             'subsample': [0.9, 0.5, 0.2, 0.1],\n",
    "             'n_estimators': [100,500,1000, 1500],\n",
    "             'max_depth': [4,6,8,10],\n",
    "            }"
   ]
  },
  {
   "cell_type": "code",
   "execution_count": 94,
   "id": "62ec856b",
   "metadata": {},
   "outputs": [],
   "source": [
    "# Criando o Modelo \n",
    "model_v6 = GridSearchCV(XGBClassifier(eval_metric='mlogloss'), \n",
    "                        params_v6, \n",
    "                        cv = 2, \n",
    "                        n_jobs=-1)"
   ]
  },
  {
   "cell_type": "code",
   "execution_count": 95,
   "id": "79ab4c25",
   "metadata": {},
   "outputs": [
    {
     "data": {
      "text/html": [
       "<style>#sk-container-id-6 {color: black;background-color: white;}#sk-container-id-6 pre{padding: 0;}#sk-container-id-6 div.sk-toggleable {background-color: white;}#sk-container-id-6 label.sk-toggleable__label {cursor: pointer;display: block;width: 100%;margin-bottom: 0;padding: 0.3em;box-sizing: border-box;text-align: center;}#sk-container-id-6 label.sk-toggleable__label-arrow:before {content: \"▸\";float: left;margin-right: 0.25em;color: #696969;}#sk-container-id-6 label.sk-toggleable__label-arrow:hover:before {color: black;}#sk-container-id-6 div.sk-estimator:hover label.sk-toggleable__label-arrow:before {color: black;}#sk-container-id-6 div.sk-toggleable__content {max-height: 0;max-width: 0;overflow: hidden;text-align: left;background-color: #f0f8ff;}#sk-container-id-6 div.sk-toggleable__content pre {margin: 0.2em;color: black;border-radius: 0.25em;background-color: #f0f8ff;}#sk-container-id-6 input.sk-toggleable__control:checked~div.sk-toggleable__content {max-height: 200px;max-width: 100%;overflow: auto;}#sk-container-id-6 input.sk-toggleable__control:checked~label.sk-toggleable__label-arrow:before {content: \"▾\";}#sk-container-id-6 div.sk-estimator input.sk-toggleable__control:checked~label.sk-toggleable__label {background-color: #d4ebff;}#sk-container-id-6 div.sk-label input.sk-toggleable__control:checked~label.sk-toggleable__label {background-color: #d4ebff;}#sk-container-id-6 input.sk-hidden--visually {border: 0;clip: rect(1px 1px 1px 1px);clip: rect(1px, 1px, 1px, 1px);height: 1px;margin: -1px;overflow: hidden;padding: 0;position: absolute;width: 1px;}#sk-container-id-6 div.sk-estimator {font-family: monospace;background-color: #f0f8ff;border: 1px dotted black;border-radius: 0.25em;box-sizing: border-box;margin-bottom: 0.5em;}#sk-container-id-6 div.sk-estimator:hover {background-color: #d4ebff;}#sk-container-id-6 div.sk-parallel-item::after {content: \"\";width: 100%;border-bottom: 1px solid gray;flex-grow: 1;}#sk-container-id-6 div.sk-label:hover label.sk-toggleable__label {background-color: #d4ebff;}#sk-container-id-6 div.sk-serial::before {content: \"\";position: absolute;border-left: 1px solid gray;box-sizing: border-box;top: 0;bottom: 0;left: 50%;z-index: 0;}#sk-container-id-6 div.sk-serial {display: flex;flex-direction: column;align-items: center;background-color: white;padding-right: 0.2em;padding-left: 0.2em;position: relative;}#sk-container-id-6 div.sk-item {position: relative;z-index: 1;}#sk-container-id-6 div.sk-parallel {display: flex;align-items: stretch;justify-content: center;background-color: white;position: relative;}#sk-container-id-6 div.sk-item::before, #sk-container-id-6 div.sk-parallel-item::before {content: \"\";position: absolute;border-left: 1px solid gray;box-sizing: border-box;top: 0;bottom: 0;left: 50%;z-index: -1;}#sk-container-id-6 div.sk-parallel-item {display: flex;flex-direction: column;z-index: 1;position: relative;background-color: white;}#sk-container-id-6 div.sk-parallel-item:first-child::after {align-self: flex-end;width: 50%;}#sk-container-id-6 div.sk-parallel-item:last-child::after {align-self: flex-start;width: 50%;}#sk-container-id-6 div.sk-parallel-item:only-child::after {width: 0;}#sk-container-id-6 div.sk-dashed-wrapped {border: 1px dashed gray;margin: 0 0.4em 0.5em 0.4em;box-sizing: border-box;padding-bottom: 0.4em;background-color: white;}#sk-container-id-6 div.sk-label label {font-family: monospace;font-weight: bold;display: inline-block;line-height: 1.2em;}#sk-container-id-6 div.sk-label-container {text-align: center;}#sk-container-id-6 div.sk-container {/* jupyter's `normalize.less` sets `[hidden] { display: none; }` but bootstrap.min.css set `[hidden] { display: none !important; }` so we also need the `!important` here to be able to override the default hidden behavior on the sphinx rendered scikit-learn.org. See: https://github.com/scikit-learn/scikit-learn/issues/21755 */display: inline-block !important;position: relative;}#sk-container-id-6 div.sk-text-repr-fallback {display: none;}</style><div id=\"sk-container-id-6\" class=\"sk-top-container\"><div class=\"sk-text-repr-fallback\"><pre>GridSearchCV(cv=2,\n",
       "             estimator=XGBClassifier(base_score=None, booster=None,\n",
       "                                     callbacks=None, colsample_bylevel=None,\n",
       "                                     colsample_bynode=None,\n",
       "                                     colsample_bytree=None,\n",
       "                                     early_stopping_rounds=None,\n",
       "                                     enable_categorical=False,\n",
       "                                     eval_metric=&#x27;mlogloss&#x27;, gamma=None,\n",
       "                                     gpu_id=None, grow_policy=None,\n",
       "                                     importance_type=None,\n",
       "                                     interaction_constraints=None,\n",
       "                                     learning_rate=None, max_bin=None,...\n",
       "                                     max_delta_step=None, max_depth=None,\n",
       "                                     max_leaves=None, min_child_weight=None,\n",
       "                                     missing=nan, monotone_constraints=None,\n",
       "                                     n_estimators=100, n_jobs=None,\n",
       "                                     num_parallel_tree=None, predictor=None,\n",
       "                                     random_state=None, reg_alpha=None,\n",
       "                                     reg_lambda=None, ...),\n",
       "             n_jobs=-1,\n",
       "             param_grid={&#x27;learning_rate&#x27;: [0.01, 0.02, 0.03, 0.04],\n",
       "                         &#x27;max_depth&#x27;: [4, 6, 8, 10],\n",
       "                         &#x27;n_estimators&#x27;: [100, 500, 1000, 1500],\n",
       "                         &#x27;subsample&#x27;: [0.9, 0.5, 0.2, 0.1]})</pre><b>In a Jupyter environment, please rerun this cell to show the HTML representation or trust the notebook. <br />On GitHub, the HTML representation is unable to render, please try loading this page with nbviewer.org.</b></div><div class=\"sk-container\" hidden><div class=\"sk-item sk-dashed-wrapped\"><div class=\"sk-label-container\"><div class=\"sk-label sk-toggleable\"><input class=\"sk-toggleable__control sk-hidden--visually\" id=\"sk-estimator-id-14\" type=\"checkbox\" ><label for=\"sk-estimator-id-14\" class=\"sk-toggleable__label sk-toggleable__label-arrow\">GridSearchCV</label><div class=\"sk-toggleable__content\"><pre>GridSearchCV(cv=2,\n",
       "             estimator=XGBClassifier(base_score=None, booster=None,\n",
       "                                     callbacks=None, colsample_bylevel=None,\n",
       "                                     colsample_bynode=None,\n",
       "                                     colsample_bytree=None,\n",
       "                                     early_stopping_rounds=None,\n",
       "                                     enable_categorical=False,\n",
       "                                     eval_metric=&#x27;mlogloss&#x27;, gamma=None,\n",
       "                                     gpu_id=None, grow_policy=None,\n",
       "                                     importance_type=None,\n",
       "                                     interaction_constraints=None,\n",
       "                                     learning_rate=None, max_bin=None,...\n",
       "                                     max_delta_step=None, max_depth=None,\n",
       "                                     max_leaves=None, min_child_weight=None,\n",
       "                                     missing=nan, monotone_constraints=None,\n",
       "                                     n_estimators=100, n_jobs=None,\n",
       "                                     num_parallel_tree=None, predictor=None,\n",
       "                                     random_state=None, reg_alpha=None,\n",
       "                                     reg_lambda=None, ...),\n",
       "             n_jobs=-1,\n",
       "             param_grid={&#x27;learning_rate&#x27;: [0.01, 0.02, 0.03, 0.04],\n",
       "                         &#x27;max_depth&#x27;: [4, 6, 8, 10],\n",
       "                         &#x27;n_estimators&#x27;: [100, 500, 1000, 1500],\n",
       "                         &#x27;subsample&#x27;: [0.9, 0.5, 0.2, 0.1]})</pre></div></div></div><div class=\"sk-parallel\"><div class=\"sk-parallel-item\"><div class=\"sk-item\"><div class=\"sk-label-container\"><div class=\"sk-label sk-toggleable\"><input class=\"sk-toggleable__control sk-hidden--visually\" id=\"sk-estimator-id-15\" type=\"checkbox\" ><label for=\"sk-estimator-id-15\" class=\"sk-toggleable__label sk-toggleable__label-arrow\">estimator: XGBClassifier</label><div class=\"sk-toggleable__content\"><pre>XGBClassifier(base_score=None, booster=None, callbacks=None,\n",
       "              colsample_bylevel=None, colsample_bynode=None,\n",
       "              colsample_bytree=None, early_stopping_rounds=None,\n",
       "              enable_categorical=False, eval_metric=&#x27;mlogloss&#x27;, gamma=None,\n",
       "              gpu_id=None, grow_policy=None, importance_type=None,\n",
       "              interaction_constraints=None, learning_rate=None, max_bin=None,\n",
       "              max_cat_to_onehot=None, max_delta_step=None, max_depth=None,\n",
       "              max_leaves=None, min_child_weight=None, missing=nan,\n",
       "              monotone_constraints=None, n_estimators=100, n_jobs=None,\n",
       "              num_parallel_tree=None, predictor=None, random_state=None,\n",
       "              reg_alpha=None, reg_lambda=None, ...)</pre></div></div></div><div class=\"sk-serial\"><div class=\"sk-item\"><div class=\"sk-estimator sk-toggleable\"><input class=\"sk-toggleable__control sk-hidden--visually\" id=\"sk-estimator-id-16\" type=\"checkbox\" ><label for=\"sk-estimator-id-16\" class=\"sk-toggleable__label sk-toggleable__label-arrow\">XGBClassifier</label><div class=\"sk-toggleable__content\"><pre>XGBClassifier(base_score=None, booster=None, callbacks=None,\n",
       "              colsample_bylevel=None, colsample_bynode=None,\n",
       "              colsample_bytree=None, early_stopping_rounds=None,\n",
       "              enable_categorical=False, eval_metric=&#x27;mlogloss&#x27;, gamma=None,\n",
       "              gpu_id=None, grow_policy=None, importance_type=None,\n",
       "              interaction_constraints=None, learning_rate=None, max_bin=None,\n",
       "              max_cat_to_onehot=None, max_delta_step=None, max_depth=None,\n",
       "              max_leaves=None, min_child_weight=None, missing=nan,\n",
       "              monotone_constraints=None, n_estimators=100, n_jobs=None,\n",
       "              num_parallel_tree=None, predictor=None, random_state=None,\n",
       "              reg_alpha=None, reg_lambda=None, ...)</pre></div></div></div></div></div></div></div></div></div></div>"
      ],
      "text/plain": [
       "GridSearchCV(cv=2,\n",
       "             estimator=XGBClassifier(base_score=None, booster=None,\n",
       "                                     callbacks=None, colsample_bylevel=None,\n",
       "                                     colsample_bynode=None,\n",
       "                                     colsample_bytree=None,\n",
       "                                     early_stopping_rounds=None,\n",
       "                                     enable_categorical=False,\n",
       "                                     eval_metric='mlogloss', gamma=None,\n",
       "                                     gpu_id=None, grow_policy=None,\n",
       "                                     importance_type=None,\n",
       "                                     interaction_constraints=None,\n",
       "                                     learning_rate=None, max_bin=None,...\n",
       "                                     max_delta_step=None, max_depth=None,\n",
       "                                     max_leaves=None, min_child_weight=None,\n",
       "                                     missing=nan, monotone_constraints=None,\n",
       "                                     n_estimators=100, n_jobs=None,\n",
       "                                     num_parallel_tree=None, predictor=None,\n",
       "                                     random_state=None, reg_alpha=None,\n",
       "                                     reg_lambda=None, ...),\n",
       "             n_jobs=-1,\n",
       "             param_grid={'learning_rate': [0.01, 0.02, 0.03, 0.04],\n",
       "                         'max_depth': [4, 6, 8, 10],\n",
       "                         'n_estimators': [100, 500, 1000, 1500],\n",
       "                         'subsample': [0.9, 0.5, 0.2, 0.1]})"
      ]
     },
     "execution_count": 95,
     "metadata": {},
     "output_type": "execute_result"
    }
   ],
   "source": [
    "# Treinando o Modelo\n",
    "model_v6.fit(x_over_train, y_over_train)"
   ]
  },
  {
   "cell_type": "code",
   "execution_count": 96,
   "id": "519c1864",
   "metadata": {},
   "outputs": [
    {
     "data": {
      "text/plain": [
       "{'learning_rate': 0.01, 'max_depth': 8, 'n_estimators': 1500, 'subsample': 0.5}"
      ]
     },
     "execution_count": 96,
     "metadata": {},
     "output_type": "execute_result"
    }
   ],
   "source": [
    "# Melhores Parâmetros\n",
    "model_v6.best_params_"
   ]
  },
  {
   "cell_type": "code",
   "execution_count": 97,
   "id": "22840531",
   "metadata": {},
   "outputs": [],
   "source": [
    "# Previsão\n",
    "y_prev_v6 = model_v6.predict(x_test)"
   ]
  },
  {
   "cell_type": "code",
   "execution_count": 98,
   "id": "9b817357",
   "metadata": {
    "scrolled": false
   },
   "outputs": [],
   "source": [
    "#Provabilidade da Previsão\n",
    "y_prev_prob_v6 = model_v6.predict_proba(x_test)[:,1]"
   ]
  },
  {
   "cell_type": "code",
   "execution_count": 99,
   "id": "3eb13adf",
   "metadata": {
    "scrolled": true
   },
   "outputs": [],
   "source": [
    "# Matriz de Confusão \n",
    "tn6, fp6, fn6, tp6 = confusion_matrix(y_test, y_prev_v6).ravel()"
   ]
  },
  {
   "cell_type": "code",
   "execution_count": 100,
   "id": "8ed1fe9c",
   "metadata": {},
   "outputs": [
    {
     "data": {
      "text/plain": [
       "0.625"
      ]
     },
     "execution_count": 100,
     "metadata": {},
     "output_type": "execute_result"
    }
   ],
   "source": [
    "# ROC score\n",
    "roc_auc_v6 = roc_auc_score(y_test, y_prev_v6)\n",
    "roc_auc_v6"
   ]
  },
  {
   "cell_type": "code",
   "execution_count": 101,
   "id": "df2cbd13",
   "metadata": {},
   "outputs": [
    {
     "data": {
      "text/plain": [
       "0.70775"
      ]
     },
     "execution_count": 101,
     "metadata": {},
     "output_type": "execute_result"
    }
   ],
   "source": [
    "fpr_v6, tpr_v6, thresholds = roc_curve(y_test, y_prev_prob_v6)\n",
    "auc_v6 = auc(fpr_v6,tpr_v6)\n",
    "auc_v6"
   ]
  },
  {
   "cell_type": "code",
   "execution_count": 102,
   "id": "c3cc7352",
   "metadata": {},
   "outputs": [
    {
     "data": {
      "text/plain": [
       "0.7"
      ]
     },
     "execution_count": 102,
     "metadata": {},
     "output_type": "execute_result"
    }
   ],
   "source": [
    "# Acurácia \n",
    "acc_v6 = accuracy_score(y_test, y_prev_v6)\n",
    "acc_v6"
   ]
  },
  {
   "cell_type": "code",
   "execution_count": 103,
   "id": "70610fb8",
   "metadata": {},
   "outputs": [
    {
     "data": {
      "text/html": [
       "<div>\n",
       "<style scoped>\n",
       "    .dataframe tbody tr th:only-of-type {\n",
       "        vertical-align: middle;\n",
       "    }\n",
       "\n",
       "    .dataframe tbody tr th {\n",
       "        vertical-align: top;\n",
       "    }\n",
       "\n",
       "    .dataframe thead th {\n",
       "        text-align: right;\n",
       "    }\n",
       "</style>\n",
       "<table border=\"1\" class=\"dataframe\">\n",
       "  <thead>\n",
       "    <tr style=\"text-align: right;\">\n",
       "      <th></th>\n",
       "      <th>Nome</th>\n",
       "      <th>Algoritmo</th>\n",
       "      <th>ROC_AUC Score</th>\n",
       "      <th>AUC Score</th>\n",
       "      <th>Acurácia</th>\n",
       "      <th>Verdadeiro Negativo</th>\n",
       "      <th>Falso Negativo</th>\n",
       "      <th>Verdadeiro Positivo</th>\n",
       "      <th>Falso Positivo</th>\n",
       "    </tr>\n",
       "  </thead>\n",
       "  <tbody>\n",
       "    <tr>\n",
       "      <th>0</th>\n",
       "      <td>model_v1</td>\n",
       "      <td>Regressão Logistica</td>\n",
       "      <td>0.7450</td>\n",
       "      <td>0.820500</td>\n",
       "      <td>0.700000</td>\n",
       "      <td>64</td>\n",
       "      <td>6</td>\n",
       "      <td>34</td>\n",
       "      <td>36</td>\n",
       "    </tr>\n",
       "    <tr>\n",
       "      <th>1</th>\n",
       "      <td>model_v2</td>\n",
       "      <td>Random Forest</td>\n",
       "      <td>0.6650</td>\n",
       "      <td>0.748875</td>\n",
       "      <td>0.714286</td>\n",
       "      <td>78</td>\n",
       "      <td>18</td>\n",
       "      <td>22</td>\n",
       "      <td>22</td>\n",
       "    </tr>\n",
       "    <tr>\n",
       "      <th>2</th>\n",
       "      <td>model_v3</td>\n",
       "      <td>KNN</td>\n",
       "      <td>0.4975</td>\n",
       "      <td>0.497500</td>\n",
       "      <td>0.592857</td>\n",
       "      <td>72</td>\n",
       "      <td>29</td>\n",
       "      <td>11</td>\n",
       "      <td>28</td>\n",
       "    </tr>\n",
       "    <tr>\n",
       "      <th>3</th>\n",
       "      <td>model_v4</td>\n",
       "      <td>Decision Tree</td>\n",
       "      <td>0.6525</td>\n",
       "      <td>0.680125</td>\n",
       "      <td>0.642857</td>\n",
       "      <td>63</td>\n",
       "      <td>13</td>\n",
       "      <td>27</td>\n",
       "      <td>37</td>\n",
       "    </tr>\n",
       "    <tr>\n",
       "      <th>4</th>\n",
       "      <td>model_v5</td>\n",
       "      <td>Suport Vector Machine</td>\n",
       "      <td>0.5400</td>\n",
       "      <td>0.548750</td>\n",
       "      <td>0.642857</td>\n",
       "      <td>78</td>\n",
       "      <td>28</td>\n",
       "      <td>12</td>\n",
       "      <td>22</td>\n",
       "    </tr>\n",
       "    <tr>\n",
       "      <th>5</th>\n",
       "      <td>model_v6</td>\n",
       "      <td>Gradient Boosting Regressor</td>\n",
       "      <td>0.6250</td>\n",
       "      <td>0.707750</td>\n",
       "      <td>0.700000</td>\n",
       "      <td>80</td>\n",
       "      <td>22</td>\n",
       "      <td>18</td>\n",
       "      <td>20</td>\n",
       "    </tr>\n",
       "  </tbody>\n",
       "</table>\n",
       "</div>"
      ],
      "text/plain": [
       "       Nome                    Algoritmo  ROC_AUC Score  AUC Score  Acurácia  \\\n",
       "0  model_v1          Regressão Logistica         0.7450   0.820500  0.700000   \n",
       "1  model_v2                Random Forest         0.6650   0.748875  0.714286   \n",
       "2  model_v3                          KNN         0.4975   0.497500  0.592857   \n",
       "3  model_v4                Decision Tree         0.6525   0.680125  0.642857   \n",
       "4  model_v5        Suport Vector Machine         0.5400   0.548750  0.642857   \n",
       "5  model_v6  Gradient Boosting Regressor         0.6250   0.707750  0.700000   \n",
       "\n",
       "   Verdadeiro Negativo  Falso Negativo  Verdadeiro Positivo  Falso Positivo  \n",
       "0                   64               6                   34              36  \n",
       "1                   78              18                   22              22  \n",
       "2                   72              29                   11              28  \n",
       "3                   63              13                   27              37  \n",
       "4                   78              28                   12              22  \n",
       "5                   80              22                   18              20  "
      ]
     },
     "execution_count": 103,
     "metadata": {},
     "output_type": "execute_result"
    }
   ],
   "source": [
    "# Adicionando Resultados\n",
    "dic_model_6 = {'Nome': 'model_v6', \n",
    "              'Algoritmo': 'Gradient Boosting Regressor', \n",
    "              'ROC_AUC Score': roc_auc_v6, \n",
    "              'AUC Score': auc_v6, \n",
    "              'Acurácia': acc_v6, \n",
    "              'Verdadeiro Negativo': tn6, \n",
    "              'Falso Negativo': fn6,\n",
    "              'Verdadeiro Positivo': tp6,\n",
    "              'Falso Positivo': fp6\n",
    "             }\n",
    "df_models = df_models.append(dic_model_6, ignore_index= True)\n",
    "df_models"
   ]
  }
 ],
 "metadata": {
  "kernelspec": {
   "display_name": "Python 3 (ipykernel)",
   "language": "python",
   "name": "python3"
  },
  "language_info": {
   "codemirror_mode": {
    "name": "ipython",
    "version": 3
   },
   "file_extension": ".py",
   "mimetype": "text/x-python",
   "name": "python",
   "nbconvert_exporter": "python",
   "pygments_lexer": "ipython3",
   "version": "3.9.12"
  }
 },
 "nbformat": 4,
 "nbformat_minor": 5
}
